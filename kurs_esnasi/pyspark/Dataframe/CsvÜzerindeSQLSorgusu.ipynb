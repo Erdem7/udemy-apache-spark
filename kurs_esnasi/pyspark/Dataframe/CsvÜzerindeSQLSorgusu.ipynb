{
 "cells": [
  {
   "cell_type": "code",
   "execution_count": 1,
   "metadata": {},
   "outputs": [],
   "source": [
    "import findspark\n",
    "findspark.init()\n",
    "from pyspark.sql import SparkSession\n",
    "spark = SparkSession.builder \\\n",
    ".master(\"local[4]\") \\\n",
    ".appName(\"Csv-Üzeri-SQL\") \\\n",
    ".config(\"spark.executor.memory\",\"4g\") \\\n",
    ".config(\"spark.driver.memory\",\"2g\") \\\n",
    ".getOrCreate()"
   ]
  },
  {
   "cell_type": "code",
   "execution_count": 2,
   "metadata": {},
   "outputs": [],
   "source": [
    "retailDF = spark.read \\\n",
    ".option(\"header\",\"True\") \\\n",
    ".option(\"inferSchema\",\"True\") \\\n",
    ".option(\"sep\",\";\") \\\n",
    ".csv(\"D:\\\\Datasets\\\\OnlineRetail.csv\")"
   ]
  },
  {
   "cell_type": "code",
   "execution_count": 4,
   "metadata": {},
   "outputs": [
    {
     "data": {
      "text/html": [
       "<div>\n",
       "<style scoped>\n",
       "    .dataframe tbody tr th:only-of-type {\n",
       "        vertical-align: middle;\n",
       "    }\n",
       "\n",
       "    .dataframe tbody tr th {\n",
       "        vertical-align: top;\n",
       "    }\n",
       "\n",
       "    .dataframe thead th {\n",
       "        text-align: right;\n",
       "    }\n",
       "</style>\n",
       "<table border=\"1\" class=\"dataframe\">\n",
       "  <thead>\n",
       "    <tr style=\"text-align: right;\">\n",
       "      <th></th>\n",
       "      <th>InvoiceNo</th>\n",
       "      <th>StockCode</th>\n",
       "      <th>Description</th>\n",
       "      <th>Quantity</th>\n",
       "      <th>InvoiceDate</th>\n",
       "      <th>UnitPrice</th>\n",
       "      <th>CustomerID</th>\n",
       "      <th>Country</th>\n",
       "    </tr>\n",
       "  </thead>\n",
       "  <tbody>\n",
       "    <tr>\n",
       "      <th>0</th>\n",
       "      <td>536365</td>\n",
       "      <td>85123A</td>\n",
       "      <td>WHITE HANGING HEART T-LIGHT HOLDER</td>\n",
       "      <td>6</td>\n",
       "      <td>1.12.2010 08:26</td>\n",
       "      <td>2,55</td>\n",
       "      <td>17850</td>\n",
       "      <td>United Kingdom</td>\n",
       "    </tr>\n",
       "    <tr>\n",
       "      <th>1</th>\n",
       "      <td>536365</td>\n",
       "      <td>71053</td>\n",
       "      <td>WHITE METAL LANTERN</td>\n",
       "      <td>6</td>\n",
       "      <td>1.12.2010 08:26</td>\n",
       "      <td>3,39</td>\n",
       "      <td>17850</td>\n",
       "      <td>United Kingdom</td>\n",
       "    </tr>\n",
       "    <tr>\n",
       "      <th>2</th>\n",
       "      <td>536365</td>\n",
       "      <td>84406B</td>\n",
       "      <td>CREAM CUPID HEARTS COAT HANGER</td>\n",
       "      <td>8</td>\n",
       "      <td>1.12.2010 08:26</td>\n",
       "      <td>2,75</td>\n",
       "      <td>17850</td>\n",
       "      <td>United Kingdom</td>\n",
       "    </tr>\n",
       "    <tr>\n",
       "      <th>3</th>\n",
       "      <td>536365</td>\n",
       "      <td>84029G</td>\n",
       "      <td>KNITTED UNION FLAG HOT WATER BOTTLE</td>\n",
       "      <td>6</td>\n",
       "      <td>1.12.2010 08:26</td>\n",
       "      <td>3,39</td>\n",
       "      <td>17850</td>\n",
       "      <td>United Kingdom</td>\n",
       "    </tr>\n",
       "    <tr>\n",
       "      <th>4</th>\n",
       "      <td>536365</td>\n",
       "      <td>84029E</td>\n",
       "      <td>RED WOOLLY HOTTIE WHITE HEART.</td>\n",
       "      <td>6</td>\n",
       "      <td>1.12.2010 08:26</td>\n",
       "      <td>3,39</td>\n",
       "      <td>17850</td>\n",
       "      <td>United Kingdom</td>\n",
       "    </tr>\n",
       "  </tbody>\n",
       "</table>\n",
       "</div>"
      ],
      "text/plain": [
       "  InvoiceNo StockCode                          Description  Quantity  \\\n",
       "0    536365    85123A   WHITE HANGING HEART T-LIGHT HOLDER         6   \n",
       "1    536365     71053                  WHITE METAL LANTERN         6   \n",
       "2    536365    84406B       CREAM CUPID HEARTS COAT HANGER         8   \n",
       "3    536365    84029G  KNITTED UNION FLAG HOT WATER BOTTLE         6   \n",
       "4    536365    84029E       RED WOOLLY HOTTIE WHITE HEART.         6   \n",
       "\n",
       "       InvoiceDate UnitPrice  CustomerID         Country  \n",
       "0  1.12.2010 08:26      2,55       17850  United Kingdom  \n",
       "1  1.12.2010 08:26      3,39       17850  United Kingdom  \n",
       "2  1.12.2010 08:26      2,75       17850  United Kingdom  \n",
       "3  1.12.2010 08:26      3,39       17850  United Kingdom  \n",
       "4  1.12.2010 08:26      3,39       17850  United Kingdom  "
      ]
     },
     "execution_count": 4,
     "metadata": {},
     "output_type": "execute_result"
    }
   ],
   "source": [
    "retailDF.limit(5).toPandas().head()"
   ]
  },
  {
   "cell_type": "code",
   "execution_count": 3,
   "metadata": {},
   "outputs": [
    {
     "data": {
      "text/plain": [
       "DataFrame[InvoiceNo: string, StockCode: string, Description: string, Quantity: int, InvoiceDate: string, UnitPrice: string, CustomerID: int, Country: string]"
      ]
     },
     "execution_count": 3,
     "metadata": {},
     "output_type": "execute_result"
    }
   ],
   "source": [
    "retailDF.cache()"
   ]
  },
  {
   "cell_type": "code",
   "execution_count": 5,
   "metadata": {},
   "outputs": [],
   "source": [
    "retailDF.createOrReplaceTempView(\"tablo\")"
   ]
  },
  {
   "cell_type": "code",
   "execution_count": 6,
   "metadata": {},
   "outputs": [
    {
     "name": "stdout",
     "output_type": "stream",
     "text": [
      "+---------------+---------+\n",
      "|        Country|UnitPrice|\n",
      "+---------------+---------+\n",
      "| United Kingdom|  94911.0|\n",
      "|           EIRE|   9423.0|\n",
      "|        Germany|   7930.0|\n",
      "|         France|   6288.0|\n",
      "|          Spain|   2927.0|\n",
      "|        Finland|   1578.0|\n",
      "|        Belgium|   1503.0|\n",
      "|         Norway|   1451.0|\n",
      "|    Switzerland|   1267.0|\n",
      "|         Sweden|    921.0|\n",
      "|         Cyprus|    890.0|\n",
      "|    Netherlands|    874.0|\n",
      "|          Italy|    823.0|\n",
      "|       Portugal|    817.0|\n",
      "|Channel Islands|    736.0|\n",
      "|        Austria|    548.0|\n",
      "|      Australia|    350.0|\n",
      "|        Denmark|    246.0|\n",
      "|          Malta|    210.0|\n",
      "|         Poland|    200.0|\n",
      "+---------------+---------+\n",
      "only showing top 20 rows\n",
      "\n"
     ]
    }
   ],
   "source": [
    "spark.sql(\"\"\"\n",
    "\n",
    "SELECT Country, SUM(UnitPrice) UnitPrice \n",
    "FROM tablo\n",
    "GROUP BY Country\n",
    "ORDER BY UnitPrice DESC\n",
    "\n",
    "\n",
    "\n",
    "\n",
    "\"\"\").show(20)"
   ]
  },
  {
   "cell_type": "code",
   "execution_count": 7,
   "metadata": {},
   "outputs": [
    {
     "name": "stdout",
     "output_type": "stream",
     "text": [
      "+---------------+---------+\n",
      "|        Country|UnitPrice|\n",
      "+---------------+---------+\n",
      "| United Kingdom|  94911.0|\n",
      "|           EIRE|   9423.0|\n",
      "|        Germany|   7930.0|\n",
      "|         France|   6288.0|\n",
      "|          Spain|   2927.0|\n",
      "|        Finland|   1578.0|\n",
      "|        Belgium|   1503.0|\n",
      "|         Norway|   1451.0|\n",
      "|    Switzerland|   1267.0|\n",
      "|         Sweden|    921.0|\n",
      "|         Cyprus|    890.0|\n",
      "|    Netherlands|    874.0|\n",
      "|          Italy|    823.0|\n",
      "|       Portugal|    817.0|\n",
      "|Channel Islands|    736.0|\n",
      "|        Austria|    548.0|\n",
      "|      Australia|    350.0|\n",
      "|        Denmark|    246.0|\n",
      "|          Malta|    210.0|\n",
      "|         Poland|    200.0|\n",
      "+---------------+---------+\n",
      "only showing top 20 rows\n",
      "\n"
     ]
    }
   ],
   "source": [
    "spark.sql(\"\"\"\n",
    "\n",
    "SELECT Country, SUM(UnitPrice) UnitPrice \n",
    "FROM tablo\n",
    "GROUP BY Country\n",
    "ORDER BY UnitPrice DESC\n",
    "\n",
    "\n",
    "\n",
    "\n",
    "\"\"\").show(20)"
   ]
  },
  {
   "cell_type": "code",
   "execution_count": null,
   "metadata": {},
   "outputs": [],
   "source": []
  }
 ],
 "metadata": {
  "kernelspec": {
   "display_name": "Python 3",
   "language": "python",
   "name": "python3"
  },
  "language_info": {
   "codemirror_mode": {
    "name": "ipython",
    "version": 3
   },
   "file_extension": ".py",
   "mimetype": "text/x-python",
   "name": "python",
   "nbconvert_exporter": "python",
   "pygments_lexer": "ipython3",
   "version": "3.6.5"
  }
 },
 "nbformat": 4,
 "nbformat_minor": 2
}
