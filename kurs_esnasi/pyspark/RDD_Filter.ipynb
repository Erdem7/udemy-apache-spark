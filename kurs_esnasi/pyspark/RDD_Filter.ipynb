{
 "cells": [
  {
   "cell_type": "code",
   "execution_count": 1,
   "metadata": {},
   "outputs": [],
   "source": [
    "import findspark\n",
    "findspark.init()"
   ]
  },
  {
   "cell_type": "code",
   "execution_count": 3,
   "metadata": {},
   "outputs": [],
   "source": [
    "# Create SparkContext\n",
    "from pyspark.sql import SparkSession\n",
    "from pyspark.conf import SparkConf\n",
    "\n",
    "# Aşağıdaki ayarları bilgisayarınızın belleğine göre değiştirebilirsiniz\n",
    "spark = SparkSession.builder \\\n",
    ".master(\"local[4]\") \\\n",
    ".appName(\"RDD-Filter\") \\\n",
    ".config(\"spark.executor.memory\",\"4g\") \\\n",
    ".config(\"spark.driver.memory\",\"2g\") \\\n",
    ".getOrCreate()\n",
    "\n",
    "# sparkContext'i kısaltmada tut\n",
    "sc = spark.sparkContext"
   ]
  },
  {
   "cell_type": "code",
   "execution_count": 4,
   "metadata": {},
   "outputs": [],
   "source": [
    "retailRDD = sc.textFile(\"C:\\\\Users\\\\toshiba\\\\SkyDrive\\\\veribilimi.co\\\\Datasets\\\\OnlineRetail.csv\")"
   ]
  },
  {
   "cell_type": "code",
   "execution_count": 6,
   "metadata": {},
   "outputs": [
    {
     "data": {
      "text/plain": [
       "['InvoiceNo;StockCode;Description;Quantity;InvoiceDate;UnitPrice;CustomerID;Country',\n",
       " '536365;85123A;WHITE HANGING HEART T-LIGHT HOLDER;6;1.12.2010 08:26;2,55;17850;United Kingdom',\n",
       " '536365;71053;WHITE METAL LANTERN;6;1.12.2010 08:26;3,39;17850;United Kingdom',\n",
       " '536365;84406B;CREAM CUPID HEARTS COAT HANGER;8;1.12.2010 08:26;2,75;17850;United Kingdom',\n",
       " '536365;84029G;KNITTED UNION FLAG HOT WATER BOTTLE;6;1.12.2010 08:26;3,39;17850;United Kingdom']"
      ]
     },
     "execution_count": 6,
     "metadata": {},
     "output_type": "execute_result"
    }
   ],
   "source": [
    "retailRDD.take(5)"
   ]
  },
  {
   "cell_type": "code",
   "execution_count": 7,
   "metadata": {},
   "outputs": [],
   "source": [
    "firstline = retailRDD.first()\n",
    "firstlinerdd = sc.parallelize([firstline])"
   ]
  },
  {
   "cell_type": "code",
   "execution_count": 8,
   "metadata": {},
   "outputs": [
    {
     "data": {
      "text/plain": [
       "['536367;84969;BOX OF 6 ASSORTED COLOUR TEASPOONS;6;1.12.2010 08:34;4,25;13047;United Kingdom',\n",
       " '536369;21756;BATH BUILDING BLOCK WORD;3;1.12.2010 08:35;5,95;13047;United Kingdom',\n",
       " '536370;10002;INFLATABLE POLITICAL GLOBE ;48;1.12.2010 08:45;0,85;12583;France',\n",
       " '536370;21731;RED TOADSTOOL LED NIGHT LIGHT;24;1.12.2010 08:45;1,65;12583;France',\n",
       " '536370;22540;MINI JIGSAW CIRCUS PARADE ;24;1.12.2010 08:45;0,42;12583;France']"
      ]
     },
     "execution_count": 8,
     "metadata": {},
     "output_type": "execute_result"
    }
   ],
   "source": [
    "retailRDDWithoutHeader = retailRDD.subtract(firstlinerdd)\n",
    "retailRDDWithoutHeader.take(5)"
   ]
  },
  {
   "cell_type": "markdown",
   "metadata": {},
   "source": [
    "### Sipariş numarası 536367 olan işlemler"
   ]
  },
  {
   "cell_type": "code",
   "execution_count": 10,
   "metadata": {},
   "outputs": [
    {
     "data": {
      "text/plain": [
       "['536367;84969;BOX OF 6 ASSORTED COLOUR TEASPOONS;6;1.12.2010 08:34;4,25;13047;United Kingdom',\n",
       " '536367;84879;ASSORTED COLOUR BIRD ORNAMENT;32;1.12.2010 08:34;1,69;13047;United Kingdom',\n",
       " '536367;21755;LOVE BUILDING BLOCK WORD;3;1.12.2010 08:34;5,95;13047;United Kingdom',\n",
       " \"536367;22745;POPPY'S PLAYHOUSE BEDROOM ;6;1.12.2010 08:34;2,1;13047;United Kingdom\",\n",
       " '536367;48187;DOORMAT NEW ENGLAND;4;1.12.2010 08:34;7,95;13047;United Kingdom',\n",
       " '536367;22310;IVORY KNITTED MUG COSY ;6;1.12.2010 08:34;1,65;13047;United Kingdom',\n",
       " '536367;21754;HOME BUILDING BLOCK WORD;3;1.12.2010 08:34;5,95;13047;United Kingdom',\n",
       " \"536367;22748;POPPY'S PLAYHOUSE KITCHEN;6;1.12.2010 08:34;2,1;13047;United Kingdom\",\n",
       " '536367;22749;FELTCRAFT PRINCESS CHARLOTTE DOLL;8;1.12.2010 08:34;3,75;13047;United Kingdom',\n",
       " '536367;22623;BOX OF VINTAGE JIGSAW BLOCKS ;3;1.12.2010 08:34;4,95;13047;United Kingdom']"
      ]
     },
     "execution_count": 10,
     "metadata": {},
     "output_type": "execute_result"
    }
   ],
   "source": [
    "retailRDDWithoutHeader.filter(lambda line: line.split(\";\")[0] == '536367').take(10)"
   ]
  },
  {
   "cell_type": "markdown",
   "metadata": {},
   "source": [
    "### Ürün tarifinde COFFEE içerenler"
   ]
  },
  {
   "cell_type": "code",
   "execution_count": 11,
   "metadata": {},
   "outputs": [
    {
     "data": {
      "text/plain": [
       "['536544;22300;COFFEE MUG DOG + BALL DESIGN;1;1.12.2010 14:32;5,06;;United Kingdom',\n",
       " '536544;22301;COFFEE MUG CAT + BIRD DESIGN;2;1.12.2010 14:32;5,06;;United Kingdom',\n",
       " '536739;85159A;BLACK TEA,COFFEE,SUGAR JARS;2;2.12.2010 13:08;6,35;14180;United Kingdom',\n",
       " '536750;37370;RETRO COFFEE MUGS ASSORTED;6;2.12.2010 14:04;1,06;17850;United Kingdom',\n",
       " '536787;37370;RETRO COFFEE MUGS ASSORTED;6;2.12.2010 15:24;1,06;17850;United Kingdom',\n",
       " '536804;37370;RETRO COFFEE MUGS ASSORTED;72;2.12.2010 16:34;1,06;14031;United Kingdom',\n",
       " '536805;37370;RETRO COFFEE MUGS ASSORTED;12;2.12.2010 16:38;1,25;14775;United Kingdom',\n",
       " '536862;37370;RETRO COFFEE MUGS ASSORTED;2;3.12.2010 11:13;16,13;;United Kingdom',\n",
       " '536876;22301;COFFEE MUG CAT + BIRD DESIGN;1;3.12.2010 11:36;5,06;;United Kingdom',\n",
       " '536876;22304;COFFEE MUG BLUE PAISLEY DESIGN;1;3.12.2010 11:36;5,06;;United Kingdom',\n",
       " '536876;21216;SET 3 RETROSPOT TEA,COFFEE,SUGAR;1;3.12.2010 11:36;11,02;;United Kingdom',\n",
       " '537126;21216;SET 3 RETROSPOT TEA,COFFEE,SUGAR;1;5.12.2010 12:13;4,95;18118;United Kingdom',\n",
       " '537231;22304;COFFEE MUG BLUE PAISLEY DESIGN;6;6.12.2010 09:21;2,55;13652;United Kingdom',\n",
       " '537236;21216;SET 3 RETROSPOT TEA,COFFEE,SUGAR;8;6.12.2010 09:52;4,95;16858;United Kingdom',\n",
       " '537237;22301;COFFEE MUG CAT + BIRD DESIGN;1;6.12.2010 09:58;5,06;;United Kingdom']"
      ]
     },
     "execution_count": 11,
     "metadata": {},
     "output_type": "execute_result"
    }
   ],
   "source": [
    "retailRDDWithoutHeader.filter(lambda line: 'COFFEE' in line.split(\";\")[2]).take(15)"
   ]
  },
  {
   "cell_type": "code",
   "execution_count": 40,
   "metadata": {},
   "outputs": [],
   "source": [
    "def miktari_ondan_buyuk(x):\n",
    "    miktar = x.split(\";\")[3]\n",
    "    \n",
    "    return int(miktar) > 10"
   ]
  },
  {
   "cell_type": "code",
   "execution_count": 41,
   "metadata": {},
   "outputs": [
    {
     "data": {
      "text/plain": [
       "['536370;10002;INFLATABLE POLITICAL GLOBE ;48;1.12.2010 08:45;0,85;12583;France',\n",
       " '536370;21731;RED TOADSTOOL LED NIGHT LIGHT;24;1.12.2010 08:45;1,65;12583;France',\n",
       " '536370;22540;MINI JIGSAW CIRCUS PARADE ;24;1.12.2010 08:45;0,42;12583;France',\n",
       " '536378;85183B;CHARLIE & LOLA WASTEPAPER BIN FLORA;48;1.12.2010 09:37;1,25;14688;United Kingdom',\n",
       " '536381;22719;GUMBALL MONOCHROME COAT RACK;36;1.12.2010 09:41;1,06;15311;United Kingdom',\n",
       " '536384;22457;NATURAL SLATE HEART CHALKBOARD ;12;1.12.2010 09:53;2,95;18074;United Kingdom',\n",
       " '536384;22470;HEART OF WICKER LARGE;40;1.12.2010 09:53;2,55;18074;United Kingdom',\n",
       " '536386;85099C;JUMBO  BAG BAROQUE BLACK WHITE;100;1.12.2010 09:57;1,65;16029;United Kingdom',\n",
       " '536387;79321;CHILLI LIGHTS;192;1.12.2010 09:58;3,82;16029;United Kingdom',\n",
       " '536388;22922;FRIDGE MAGNETS US DINER ASSORTED;12;1.12.2010 09:59;0,85;16250;United Kingdom']"
      ]
     },
     "execution_count": 41,
     "metadata": {},
     "output_type": "execute_result"
    }
   ],
   "source": [
    "retailRDDWithoutHeader.filter(lambda line: miktari_ondan_buyuk(line)).take(10)"
   ]
  },
  {
   "cell_type": "code",
   "execution_count": null,
   "metadata": {},
   "outputs": [],
   "source": []
  }
 ],
 "metadata": {
  "kernelspec": {
   "display_name": "Python 3",
   "language": "python",
   "name": "python3"
  },
  "language_info": {
   "codemirror_mode": {
    "name": "ipython",
    "version": 3
   },
   "file_extension": ".py",
   "mimetype": "text/x-python",
   "name": "python",
   "nbconvert_exporter": "python",
   "pygments_lexer": "ipython3",
   "version": "3.6.5"
  }
 },
 "nbformat": 4,
 "nbformat_minor": 2
}
