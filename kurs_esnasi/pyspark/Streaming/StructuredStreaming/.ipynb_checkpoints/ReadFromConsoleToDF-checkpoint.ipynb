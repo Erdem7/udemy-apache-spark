{
 "cells": [
  {
   "cell_type": "code",
   "execution_count": 1,
   "metadata": {},
   "outputs": [],
   "source": [
    "import findspark\n",
    "findspark.init(\"D:/spark\")"
   ]
  },
  {
   "cell_type": "code",
   "execution_count": 2,
   "metadata": {},
   "outputs": [],
   "source": [
    "from pyspark.sql import SparkSession\n",
    "from pyspark.sql.types import *\n",
    "import pyspark.sql.functions as f"
   ]
  },
  {
   "cell_type": "code",
   "execution_count": 3,
   "metadata": {},
   "outputs": [],
   "source": [
    "spark = SparkSession.builder \\\n",
    ".master(\"local[4]\") \\\n",
    ".appName(\"ReadFromConsoleToDF\") \\\n",
    ".config(\"spark.driver.memory\",\"2g\") \\\n",
    ".config(\"spark.executor.memory\",\"4g\") \\\n",
    ".getOrCreate()"
   ]
  },
  {
   "cell_type": "code",
   "execution_count": 4,
   "metadata": {},
   "outputs": [],
   "source": [
    "lines = spark.readStream \\\n",
    ".format(\"socket\") \\\n",
    ".option(\"host\",\"localhost\") \\\n",
    ".option(\"port\", 9999) \\\n",
    ".load()"
   ]
  },
  {
   "cell_type": "code",
   "execution_count": null,
   "metadata": {},
   "outputs": [],
   "source": []
  },
  {
   "cell_type": "code",
   "execution_count": 5,
   "metadata": {},
   "outputs": [],
   "source": [
    "words = lines.withColumn(\"column1\", f.split(f.col(\"value\"), \"\\s+\")[0]) \\\n",
    "                .withColumn(\"column2\", f.split(f.col(\"value\"), \"\\s+\")[1]) \\\n",
    "                .withColumn(\"column3\", f.split(f.col(\"value\"), \"\\s+\")[2]) \\\n",
    ".drop(\"value\")"
   ]
  },
  {
   "cell_type": "code",
   "execution_count": null,
   "metadata": {},
   "outputs": [],
   "source": [
    "# ncat çalıştırılır"
   ]
  },
  {
   "cell_type": "code",
   "execution_count": null,
   "metadata": {},
   "outputs": [],
   "source": [
    "query = words.writeStream \\\n",
    ".outputMode(\"append\") \\\n",
    ".format(\"console\") \\\n",
    ".start()"
   ]
  },
  {
   "cell_type": "code",
   "execution_count": null,
   "metadata": {},
   "outputs": [],
   "source": [
    "query.awaitTermination()"
   ]
  },
  {
   "cell_type": "code",
   "execution_count": null,
   "metadata": {},
   "outputs": [],
   "source": [
    "query.stop()"
   ]
  },
  {
   "cell_type": "markdown",
   "metadata": {},
   "source": [
    "# Örnek konsol girdi"
   ]
  },
  {
   "cell_type": "markdown",
   "metadata": {},
   "source": [
    "    merhaba spark merhaba\n",
    "    merhaba spark merhaba\n",
    "    selam selam selam\n",
    "    selam spark selam\n",
    "    hi hi hi"
   ]
  },
  {
   "cell_type": "markdown",
   "metadata": {},
   "source": [
    "# Çıktı"
   ]
  },
  {
   "cell_type": "markdown",
   "metadata": {},
   "source": [
    "    Batch: 0\n",
    "    -------------------------------------------\n",
    "    +-------+-------+-------+\n",
    "    |column1|column2|column3|\n",
    "    +-------+-------+-------+\n",
    "    |merhaba|  spark|merhaba|\n",
    "    +-------+-------+-------+\n",
    "\n",
    "    -------------------------------------------\n",
    "    Batch: 1\n",
    "    -------------------------------------------\n",
    "    +-------+-------+-------+\n",
    "    |column1|column2|column3|\n",
    "    +-------+-------+-------+\n",
    "    |merhaba|  spark|merhaba|\n",
    "    +-------+-------+-------+\n",
    "\n",
    "    -------------------------------------------\n",
    "    Batch: 2\n",
    "    -------------------------------------------\n",
    "    +-------+-------+-------+\n",
    "    |column1|column2|column3|\n",
    "    +-------+-------+-------+\n",
    "    |  selam|  selam|  selam|\n",
    "    +-------+-------+-------+\n",
    "\n",
    "    -------------------------------------------\n",
    "    Batch: 3\n",
    "    -------------------------------------------\n",
    "    +-------+-------+-------+\n",
    "    |column1|column2|column3|\n",
    "    +-------+-------+-------+\n",
    "    |  selam|  spark|  selam|\n",
    "    +-------+-------+-------+\n",
    "\n",
    "    -------------------------------------------\n",
    "    Batch: 4\n",
    "    -------------------------------------------\n",
    "    +-------+-------+-------+\n",
    "    |column1|column2|column3|\n",
    "    +-------+-------+-------+\n",
    "    |     hi|     hi|     hi|\n",
    "    +-------+-------+-------+\""
   ]
  },
  {
   "cell_type": "code",
   "execution_count": null,
   "metadata": {},
   "outputs": [],
   "source": []
  }
 ],
 "metadata": {
  "kernelspec": {
   "display_name": "Python 3",
   "language": "python",
   "name": "python3"
  },
  "language_info": {
   "codemirror_mode": {
    "name": "ipython",
    "version": 3
   },
   "file_extension": ".py",
   "mimetype": "text/x-python",
   "name": "python",
   "nbconvert_exporter": "python",
   "pygments_lexer": "ipython3",
   "version": "3.6.5"
  }
 },
 "nbformat": 4,
 "nbformat_minor": 2
}
