{
 "cells": [
  {
   "cell_type": "code",
   "execution_count": 1,
   "metadata": {},
   "outputs": [],
   "source": [
    "import findspark\n",
    "findspark.init()\n",
    "from pyspark.sql import SparkSession\n",
    "spark = SparkSession.builder \\\n",
    ".master(\"local[4]\") \\\n",
    ".appName(\"Dataset-Olusturmak\") \\\n",
    ".config(\"spark.executor.memory\",\"4g\") \\\n",
    ".config(\"spark.driver.memory\",\"2g\") \\\n",
    ".getOrCreate()"
   ]
  },
  {
   "cell_type": "code",
   "execution_count": 3,
   "metadata": {},
   "outputs": [],
   "source": [
    "retailDF = spark.read \\\n",
    ".option(\"header\",\"True\") \\\n",
    ".option(\"inferSchema\",\"True\") \\\n",
    ".option(\"sep\",\";\") \\\n",
    ".csv(\"D:\\\\Datasets\\OnlineRetail.csv\")"
   ]
  },
  {
   "cell_type": "code",
   "execution_count": 4,
   "metadata": {},
   "outputs": [],
   "source": [
    "retailDF.createOrReplaceTempView(\"tablo\")"
   ]
  },
  {
   "cell_type": "code",
   "execution_count": 7,
   "metadata": {},
   "outputs": [
    {
     "name": "stdout",
     "output_type": "stream",
     "text": [
      "+---------+---------+--------------------+--------+---------------+---------+----------+---------+\n",
      "|InvoiceNo|StockCode|         Description|Quantity|    InvoiceDate|UnitPrice|CustomerID|  Country|\n",
      "+---------+---------+--------------------+--------+---------------+---------+----------+---------+\n",
      "|   536389|    22191|IVORY DINER WALL ...|       2|1.12.2010 10:03|      8,5|     12431|Australia|\n",
      "|   537676|    22555|PLASTERS IN TIN S...|      12|8.12.2010 09:53|     1,65|     12386|Australia|\n",
      "|   536389|    22195|LARGE HEART MEASU...|      24|1.12.2010 10:03|     1,65|     12431|Australia|\n",
      "|   536389|    21622|VINTAGE UNION JAC...|       8|1.12.2010 10:03|     4,95|     12431|Australia|\n",
      "|   536389|    22196|SMALL HEART MEASU...|      24|1.12.2010 10:03|     0,85|     12431|Australia|\n",
      "|   536389|   35004C|SET OF 3 COLOURED...|       6|1.12.2010 10:03|     5,45|     12431|Australia|\n",
      "|   537676|    22557|PLASTERS IN TIN V...|      12|8.12.2010 09:53|     1,65|     12386|Australia|\n",
      "|   536389|   85014B|RED RETROSPOT UMB...|       6|1.12.2010 10:03|     5,95|     12431|Australia|\n",
      "|   537676|    22567|20 DOLLY PEGS RET...|      24|8.12.2010 09:53|     1,25|     12386|Australia|\n",
      "|   536389|    22193|RED DINER WALL CLOCK|       2|1.12.2010 10:03|      8,5|     12431|Australia|\n",
      "|   537676|    22915|ASSORTED BOTTLE T...|     120|8.12.2010 09:53|     0,36|     12386|Australia|\n",
      "|   536389|    22727|ALARM CLOCK BAKEL...|       4|1.12.2010 10:03|     3,75|     12431|Australia|\n",
      "|   537676|    22926|IVORY GIANT GARDE...|      12|8.12.2010 09:53|     5,95|     12386|Australia|\n",
      "|   536389|    22941|CHRISTMAS LIGHTS ...|       6|1.12.2010 10:03|      8,5|     12431|Australia|\n",
      "|   537676|    22953|BIRTHDAY PARTY CO...|      24|8.12.2010 09:53|     1,25|     12386|Australia|\n",
      "|   536389|   35004G|SET OF 3 GOLD FLY...|       4|1.12.2010 10:03|     6,35|     12431|Australia|\n",
      "|   537676|    21906|PHARMACIE FIRST A...|       4|8.12.2010 09:53|     6,75|     12386|Australia|\n",
      "|   536389|    22726|ALARM CLOCK BAKEL...|       4|1.12.2010 10:03|     3,75|     12431|Australia|\n",
      "|   537676|    22495|SET OF 2 ROUND TI...|       6|8.12.2010 09:53|     2,95|     12386|Australia|\n",
      "|   536389|    21791|VINTAGE HEADS AND...|      12|1.12.2010 10:03|     1,25|     12431|Australia|\n",
      "+---------+---------+--------------------+--------+---------------+---------+----------+---------+\n",
      "\n"
     ]
    }
   ],
   "source": [
    "spark.sql(\"\"\"\n",
    "\n",
    "SELECT * FROM tablo \n",
    "ORDER BY Country\n",
    "LIMIT 20\n",
    "\n",
    "\n",
    "\"\"\").show()"
   ]
  },
  {
   "cell_type": "code",
   "execution_count": null,
   "metadata": {},
   "outputs": [],
   "source": []
  }
 ],
 "metadata": {
  "kernelspec": {
   "display_name": "Python 3",
   "language": "python",
   "name": "python3"
  },
  "language_info": {
   "codemirror_mode": {
    "name": "ipython",
    "version": 3
   },
   "file_extension": ".py",
   "mimetype": "text/x-python",
   "name": "python",
   "nbconvert_exporter": "python",
   "pygments_lexer": "ipython3",
   "version": "3.6.5"
  }
 },
 "nbformat": 4,
 "nbformat_minor": 2
}
