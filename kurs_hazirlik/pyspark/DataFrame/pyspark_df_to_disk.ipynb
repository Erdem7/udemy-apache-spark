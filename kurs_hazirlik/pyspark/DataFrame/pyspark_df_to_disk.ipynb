{
 "cells": [
  {
   "cell_type": "code",
   "execution_count": 1,
   "metadata": {},
   "outputs": [],
   "source": [
    "import findspark\n",
    "findspark.init()\n",
    "from pyspark.sql import SparkSession\n",
    "spark = SparkSession.builder \\\n",
    ".master(\"local[4]\") \\\n",
    ".appName(\"Csv-Üzeri-SQL\") \\\n",
    ".config(\"spark.executor.memory\",\"4g\") \\\n",
    ".config(\"spark.driver.memory\",\"2g\") \\\n",
    ".getOrCreate()"
   ]
  },
  {
   "cell_type": "code",
   "execution_count": 3,
   "metadata": {},
   "outputs": [],
   "source": [
    "df = spark.read \\\n",
    ".option(\"header\",\"True\") \\\n",
    ".option(\"inferSchema\",\"True\") \\\n",
    ".option(\"sep\",\",\") \\\n",
    ".csv(\"D:/egitim/verilen/udemy/spark/data/simple_dirty_data.csv\")"
   ]
  },
  {
   "cell_type": "code",
   "execution_count": 4,
   "metadata": {},
   "outputs": [
    {
     "name": "stdout",
     "output_type": "stream",
     "text": [
      "+------+---------+---+--------+-----------+-----------+-----------+--------------------+\n",
      "|sirano|     isim|yas|cinsiyet|     meslek|      sehir|aylik_gelir|            mal_mulk|\n",
      "+------+---------+---+--------+-----------+-----------+-----------+--------------------+\n",
      "|     1|    Cemal| 35|       E|       Isci|     Ankara|     3500.0|               araba|\n",
      "|     2|   ceyda | 42|       K|      Memur|    Kayseri|     4200.0|            araba|ev|\n",
      "|     3|    Timur| 30|    null|   Müzüsyen|Istanbul   |     9000.0|     araba|ev|yazlık|\n",
      "|     4|   Burcu | 29|       K|Pazarlamacı|     Ankara|     4200.0|               araba|\n",
      "|     5|  Yasemin| 23|       K|Pazarlamaci|      Bursa|     4800.0|               araba|\n",
      "|     6|      Ali| 33|       E|      Memur|     Ankara|     4250.0|                  ev|\n",
      "|     7|    Dilek| 29|       K|Pazarlamaci|   Istanbul|     7300.0|        araba|yazlık|\n",
      "|     8|    Murat| 31|       E|   Müzüsyen|   Istanbul|    12000.0|araba|ev|dükkan|y...|\n",
      "|     9|    Ahmet| 33|       E|     Doktor|     Ankara|   180000.0|     araba|ev|yazlık|\n",
      "|    10| Muhittin| 46|       E|     Berber|   Istanbul|    12000.0|     araba|ev|dükkan|\n",
      "|    11| Hicaziye| 47|       K| Tuhafiyeci|       null|        4.8|              dükkan|\n",
      "|    12|    Harun| 43|       E|    Tornacı|    Ankara |     4200.0|               araba|\n",
      "|    13|    hakkı| 33|       E|      memur|     Çorum |     3750.0|                  ev|\n",
      "|    14|  Gülizar| 37|       K|     Doktor|      İzmir|    14250.0|               araba|\n",
      "|    15|   Şehmuz| 41|       E|   Müzisyen|     Ankara|     8700.0|               araba|\n",
      "+------+---------+---+--------+-----------+-----------+-----------+--------------------+\n",
      "\n"
     ]
    }
   ],
   "source": [
    "df.show(15)"
   ]
  },
  {
   "cell_type": "markdown",
   "metadata": {},
   "source": [
    "# Veri temizliği"
   ]
  },
  {
   "cell_type": "code",
   "execution_count": 5,
   "metadata": {},
   "outputs": [
    {
     "name": "stdout",
     "output_type": "stream",
     "text": [
      "+------+--------+---+--------+-----------+----------+-----------+--------------------+\n",
      "|sirano|    isim|yas|cinsiyet|     meslek|     sehir|aylik_gelir|            mal_mulk|\n",
      "+------+--------+---+--------+-----------+----------+-----------+--------------------+\n",
      "|     1|   Cemal| 35|       E|       Isci|    ANKARA|     3500.0|               araba|\n",
      "|     2|   Ceyda| 42|       K|      Memur|   KAYSERI|     4200.0|            araba|ev|\n",
      "|     3|   Timur| 30|       U|   Müzüsyen|  ISTANBUL|     9000.0|     araba|ev|yazlık|\n",
      "|     4|   Burcu| 29|       K|Pazarlamacı|    ANKARA|     4200.0|               araba|\n",
      "|     5| Yasemin| 23|       K|Pazarlamaci|     BURSA|     4800.0|               araba|\n",
      "|     6|     Ali| 33|       E|      Memur|    ANKARA|     4250.0|                  ev|\n",
      "|     7|   Dilek| 29|       K|Pazarlamaci|  ISTANBUL|     7300.0|        araba|yazlık|\n",
      "|     8|   Murat| 31|       E|   Müzüsyen|  ISTANBUL|    12000.0|araba|ev|dükkan|y...|\n",
      "|     9|   Ahmet| 33|       E|     Doktor|    ANKARA|   180000.0|     araba|ev|yazlık|\n",
      "|    10|Muhittin| 46|       E|     Berber|  ISTANBUL|    12000.0|     araba|ev|dükkan|\n",
      "|    11|Hicaziye| 47|       K| Tuhafiyeci|BİLİNMİYOR|        4.8|              dükkan|\n",
      "|    12|   Harun| 43|       E|    Tornacı|    ANKARA|     4200.0|               araba|\n",
      "|    13|   Hakkı| 33|       E|      memur|     ÇORUM|     3750.0|                  ev|\n",
      "|    14| Gülizar| 37|       K|     Doktor|     İZMIR|    14250.0|               araba|\n",
      "|    15|  Şehmuz| 41|       E|   Müzisyen|    ANKARA|     8700.0|               araba|\n",
      "+------+--------+---+--------+-----------+----------+-----------+--------------------+\n",
      "\n"
     ]
    }
   ],
   "source": [
    "from pyspark.sql import functions as F\n",
    "df2 = df \\\n",
    ".withColumn(\"isim\", F.trim(F.initcap(df.isim))) \\\n",
    ".withColumn(\"cinsiyet\", F.when(df['cinsiyet'].isNull(), \"U\").otherwise(df['cinsiyet'])) \\\n",
    ".withColumn(\"sehir\", F.when(df['sehir'].isNull(), \"BİLİNMİYOR\").otherwise(F.trim(F.upper(df['sehir']))))\n",
    "\n",
    "\n",
    "df2.show(15)"
   ]
  },
  {
   "cell_type": "markdown",
   "metadata": {},
   "source": [
    "# Temizlenmiş dataframe'i diske yaz"
   ]
  },
  {
   "cell_type": "code",
   "execution_count": 6,
   "metadata": {},
   "outputs": [],
   "source": [
    "df2.coalesce(1) \\\n",
    ".write \\\n",
    ".mode(\"overwrite\") \\\n",
    ".option(\"sep\",\",\") \\\n",
    ".option(\"header\",\"True\") \\\n",
    ".csv(\"D:\\\\Datasets\\\\simple_dirty_data\")"
   ]
  },
  {
   "cell_type": "markdown",
   "metadata": {},
   "source": [
    "# Diske yazılmış temiz csv dosyasını okuma"
   ]
  },
  {
   "cell_type": "code",
   "execution_count": 44,
   "metadata": {},
   "outputs": [
    {
     "name": "stdout",
     "output_type": "stream",
     "text": [
      "+------+--------+---+--------+-----------+----------+-----------+--------------------+\n",
      "|sirano|    isim|yas|cinsiyet|     meslek|     sehir|aylik_gelir|            mal_mulk|\n",
      "+------+--------+---+--------+-----------+----------+-----------+--------------------+\n",
      "|     1|   Cemal| 35|       E|       Isci|    ANKARA|     3500.0|               araba|\n",
      "|     2|   Ceyda| 42|       K|      Memur|   KAYSERI|     4200.0|            araba|ev|\n",
      "|     3|   Timur| 30|       U|   Müzüsyen|  ISTANBUL|     9000.0|     araba|ev|yazlık|\n",
      "|     4|   Burcu| 29|       K|Pazarlamacı|    ANKARA|     4200.0|               araba|\n",
      "|     5| Yasemin| 23|       K|Pazarlamaci|     BURSA|     4800.0|               araba|\n",
      "|     6|     Ali| 33|       E|      Memur|    ANKARA|     4250.0|                  ev|\n",
      "|     7|   Dilek| 29|       K|Pazarlamaci|  ISTANBUL|     7300.0|        araba|yazlık|\n",
      "|     8|   Murat| 31|       E|   Müzüsyen|  ISTANBUL|    12000.0|araba|ev|dükkan|y...|\n",
      "|     9|   Ahmet| 33|       E|     Doktor|    ANKARA|   180000.0|     araba|ev|yazlık|\n",
      "|    10|Muhittin| 46|       E|     Berber|  ISTANBUL|    12000.0|     araba|ev|dükkan|\n",
      "|    11|Hicaziye| 47|       K| Tuhafiyeci|BİLİNMİYOR|        4.8|              dükkan|\n",
      "|    12|   Harun| 43|       E|    Tornacı|    ANKARA|     4200.0|               araba|\n",
      "|    13|   Hakkı| 33|       E|      memur|     ÇORUM|     3750.0|                  ev|\n",
      "|    14| Gülizar| 37|       K|     Doktor|     İZMIR|    14250.0|               araba|\n",
      "|    15|  Şehmuz| 41|       E|   Müzisyen|    ANKARA|     8700.0|               araba|\n",
      "+------+--------+---+--------+-----------+----------+-----------+--------------------+\n",
      "\n"
     ]
    }
   ],
   "source": [
    "df3 = spark.read \\\n",
    ".option(\"header\",\"True\") \\\n",
    ".option(\"inferSchema\",\"True\") \\\n",
    ".option(\"sep\",\",\") \\\n",
    ".csv(\"D:\\\\Datasets\\\\simple_dirty_data\")\n",
    "\n",
    "df3.show(15)"
   ]
  },
  {
   "cell_type": "code",
   "execution_count": null,
   "metadata": {},
   "outputs": [],
   "source": []
  }
 ],
 "metadata": {
  "kernelspec": {
   "display_name": "Python 3",
   "language": "python",
   "name": "python3"
  },
  "language_info": {
   "codemirror_mode": {
    "name": "ipython",
    "version": 3
   },
   "file_extension": ".py",
   "mimetype": "text/x-python",
   "name": "python",
   "nbconvert_exporter": "python",
   "pygments_lexer": "ipython3",
   "version": "3.6.8"
  }
 },
 "nbformat": 4,
 "nbformat_minor": 2
}
