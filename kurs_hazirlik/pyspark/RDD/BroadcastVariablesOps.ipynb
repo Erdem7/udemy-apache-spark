{
 "cells": [
  {
   "cell_type": "code",
   "execution_count": 53,
   "metadata": {},
   "outputs": [],
   "source": [
    "import findspark\n",
    "findspark.init()"
   ]
  },
  {
   "cell_type": "code",
   "execution_count": 54,
   "metadata": {},
   "outputs": [],
   "source": [
    "from pyspark import SparkConf, SparkContext"
   ]
  },
  {
   "cell_type": "code",
   "execution_count": 55,
   "metadata": {},
   "outputs": [],
   "source": [
    "conf = SparkConf().setMaster(\"local[4]\").setAppName(\"BroadcastVariablesOps\")\n",
    "sc = SparkContext(conf=conf).getOrCreate()"
   ]
  },
  {
   "cell_type": "code",
   "execution_count": 34,
   "metadata": {},
   "outputs": [],
   "source": [
    "# products.csv dosyasını okuyup (urün_id, ürün_adı) döndüren fonksiyon\n",
    "def read_products():\n",
    "    products_text_wrapper = open(\"D:/Datasets/retail_db/products.csv\", \"r\",encoding='utf-8')\n",
    "    # satır satır okuyalım\n",
    "    products = products_text_wrapper.readlines()\n",
    "    product_id_and_name = []\n",
    "    \n",
    "    for line in products:\n",
    "        if \"productName\" not in line:\n",
    "            product_id = line.split(\",\")[0]\n",
    "            product_name = line.split(\",\")[2]\n",
    "            product_id_and_name.append((product_id,product_name))\n",
    "    \n",
    "    return product_id_and_name\n",
    "    "
   ]
  },
  {
   "cell_type": "code",
   "execution_count": 35,
   "metadata": {},
   "outputs": [],
   "source": [
    "products = read_products()"
   ]
  },
  {
   "cell_type": "code",
   "execution_count": 36,
   "metadata": {},
   "outputs": [],
   "source": [
    "broadcast_product = sc.broadcast(products)"
   ]
  },
  {
   "cell_type": "code",
   "execution_count": 38,
   "metadata": {},
   "outputs": [
    {
     "data": {
      "text/plain": [
       "[('1', 'Quest Q64 10 FT. x 10 FT. Slant Leg Instant U'),\n",
       " ('2', \"Under Armour Men's Highlight MC Football Clea\"),\n",
       " ('3', \"Under Armour Men's Renegade D Mid Football Cl\"),\n",
       " ('4', \"Under Armour Men's Renegade D Mid Football Cl\"),\n",
       " ('5', 'Riddell Youth Revolution Speed Custom Footbal'),\n",
       " ('6', \"Jordan Men's VI Retro TD Football Cleat\"),\n",
       " ('7', 'Schutt Youth Recruit Hybrid Custom Football H'),\n",
       " ('8', \"Nike Men's Vapor Carbon Elite TD Football Cle\"),\n",
       " ('9', 'Nike Adult Vapor Jet 3.0 Receiver Gloves'),\n",
       " ('10', \"Under Armour Men's Highlight MC Football Clea\")]"
      ]
     },
     "execution_count": 38,
     "metadata": {},
     "output_type": "execute_result"
    }
   ],
   "source": [
    "broadcast_product.value[:10]"
   ]
  },
  {
   "cell_type": "markdown",
   "metadata": {},
   "source": [
    "# order_item okuma ve rdd oluşturma"
   ]
  },
  {
   "cell_type": "code",
   "execution_count": 41,
   "metadata": {},
   "outputs": [],
   "source": [
    "order_items_rdd = sc.textFile(\"D:Datasets/retail_db/order_items.csv\") \\\n",
    ".filter(lambda x: \"orderItemName\" not in x)"
   ]
  },
  {
   "cell_type": "code",
   "execution_count": 42,
   "metadata": {},
   "outputs": [
    {
     "data": {
      "text/plain": [
       "['1,1,957,1,299.98,299.98',\n",
       " '2,2,1073,1,199.99,199.99',\n",
       " '3,2,502,5,250.0,50.0',\n",
       " '4,2,403,1,129.99,129.99',\n",
       " '5,4,897,2,49.98,24.99']"
      ]
     },
     "execution_count": 42,
     "metadata": {},
     "output_type": "execute_result"
    }
   ],
   "source": [
    "order_items_rdd.take(5)"
   ]
  },
  {
   "cell_type": "markdown",
   "metadata": {},
   "source": [
    "# order_items pair_rdd yapma "
   ]
  },
  {
   "cell_type": "code",
   "execution_count": 43,
   "metadata": {},
   "outputs": [],
   "source": [
    "def make_order_items_pair_rdd(line):\n",
    "    order_item_name = line.split(\",\")[0]\n",
    "    order_item_order_id = line.split(\",\")[1]\n",
    "    order_item_product_id = int(line.split(\",\")[2])\n",
    "    order_item_quantity = line.split(\",\")[3]\n",
    "    order_item_sub_total = float(line.split(\",\")[4])\n",
    "    order_item_product_price = line.split(\",\")[5]\n",
    "    \n",
    "    return (order_item_product_id, order_item_sub_total)\n",
    "    "
   ]
  },
  {
   "cell_type": "code",
   "execution_count": 44,
   "metadata": {},
   "outputs": [],
   "source": [
    "order_item_pair_rdd = order_items_rdd.map(make_order_items_pair_rdd)"
   ]
  },
  {
   "cell_type": "code",
   "execution_count": 45,
   "metadata": {},
   "outputs": [
    {
     "data": {
      "text/plain": [
       "[(957, 299.98),\n",
       " (1073, 199.99),\n",
       " (502, 250.0),\n",
       " (403, 129.99),\n",
       " (897, 49.98),\n",
       " (365, 299.95)]"
      ]
     },
     "execution_count": 45,
     "metadata": {},
     "output_type": "execute_result"
    }
   ],
   "source": [
    "order_item_pair_rdd.take(6)"
   ]
  },
  {
   "cell_type": "markdown",
   "metadata": {},
   "source": [
    "# order_items ile broadcast variable olan products birleştirme"
   ]
  },
  {
   "cell_type": "code",
   "execution_count": 46,
   "metadata": {},
   "outputs": [
    {
     "data": {
      "text/plain": [
       "[(1004, 6929653.499999708),\n",
       " (365, 4421143.019999639),\n",
       " (957, 4118425.419999785),\n",
       " (191, 3667633.1999997487),\n",
       " (502, 3147800.0)]"
      ]
     },
     "execution_count": 46,
     "metadata": {},
     "output_type": "execute_result"
    }
   ],
   "source": [
    "order_item_pair_rdd.reduceByKey(lambda x,y: x+y) \\\n",
    ".map(lambda x: (x[1], x[0])) \\\n",
    ".sortByKey(False) \\\n",
    ".map(lambda x: (x[1], x[0])) \\\n",
    ".take(5)"
   ]
  },
  {
   "cell_type": "code",
   "execution_count": 47,
   "metadata": {},
   "outputs": [],
   "source": [
    "sorted_orders = order_item_pair_rdd.reduceByKey(lambda x,y: x+y) \\\n",
    ".map(lambda x: (x[1], x[0])) \\\n",
    ".sortByKey(False) \\\n",
    ".map(lambda x: (x[1], x[0]))"
   ]
  },
  {
   "cell_type": "code",
   "execution_count": 49,
   "metadata": {},
   "outputs": [],
   "source": [
    "sorted_orders_with_product_name = sorted_orders.map(lambda x: (broadcast_product.value[x[0]], x[1]))"
   ]
  },
  {
   "cell_type": "code",
   "execution_count": 51,
   "metadata": {},
   "outputs": [
    {
     "data": {
      "text/plain": [
       "[(('1005', 'Diamond Infinite Edge RTH Compound Bow Packag'),\n",
       "  6929653.499999708),\n",
       " (('366', 'Gazelle Supreme Glider'), 4421143.019999639),\n",
       " (('958', 'Nishiki Adult Montour Hybrid Bike 2014'), 4118425.419999785),\n",
       " (('192', '\"Nike Women\\'s Pro Core 3\"\" Compression Shorts\"'),\n",
       "  3667633.1999997487),\n",
       " (('503', 'Nike Youth USA Away Stadium Replica Soccer Je'), 3147800.0),\n",
       " (('1074', 'Field & Stream Eagle Talon Kayak'), 3099844.999999871),\n",
       " (('404', \"Nike Men's Vapor Carbon Elite TD Football Cle\"),\n",
       "  2891757.5399998166),\n",
       " (('1015', 'GoPro HERO3+ Black Edition Camera'), 2888993.9399996493),\n",
       " (('628', '\"Under Armour Elevate 22 oz. Leak-Proof Water \"'),\n",
       "  1269082.649999932),\n",
       " (('566', \"adidas Men's Germany Black/Red Away Match Soc\"), 67830.0)]"
      ]
     },
     "execution_count": 51,
     "metadata": {},
     "output_type": "execute_result"
    }
   ],
   "source": [
    "sorted_orders_with_product_name.take(10)"
   ]
  },
  {
   "cell_type": "code",
   "execution_count": 52,
   "metadata": {},
   "outputs": [],
   "source": [
    "sc.stop()"
   ]
  },
  {
   "cell_type": "code",
   "execution_count": 59,
   "metadata": {},
   "outputs": [
    {
     "data": {
      "text/plain": [
       "<_io.TextIOWrapper name='D:/Datasets/retail_db/products.csv' mode='r' encoding='utf-8'>"
      ]
     },
     "execution_count": 59,
     "metadata": {},
     "output_type": "execute_result"
    }
   ],
   "source": [
    "products_text_file2 = open(\"D:/Datasets/retail_db/products.csv\", \"r\",encoding=\"utf-8\")\n",
    "products_text_file2"
   ]
  },
  {
   "cell_type": "code",
   "execution_count": null,
   "metadata": {},
   "outputs": [],
   "source": []
  }
 ],
 "metadata": {
  "kernelspec": {
   "display_name": "Python 3",
   "language": "python",
   "name": "python3"
  },
  "language_info": {
   "codemirror_mode": {
    "name": "ipython",
    "version": 3
   },
   "file_extension": ".py",
   "mimetype": "text/x-python",
   "name": "python",
   "nbconvert_exporter": "python",
   "pygments_lexer": "ipython3",
   "version": "3.7.1"
  }
 },
 "nbformat": 4,
 "nbformat_minor": 2
}
