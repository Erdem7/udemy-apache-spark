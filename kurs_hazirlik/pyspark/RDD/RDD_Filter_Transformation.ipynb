{
 "cells": [
  {
   "cell_type": "code",
   "execution_count": 1,
   "metadata": {},
   "outputs": [],
   "source": [
    "import findspark\n",
    "findspark.init()\n",
    "# Create SparkContext\n",
    "from pyspark.sql import SparkSession\n",
    "from pyspark.conf import SparkConf\n",
    "\n",
    "# Aşağıdaki ayarları bilgisayarınızın belleğine göre değiştirebilirsiniz\n",
    "spark = SparkSession.builder \\\n",
    ".master(\"local[4]\") \\\n",
    ".appName(\"Dataset-Olusturmak\") \\\n",
    ".config(\"spark.executor.memory\",\"4g\") \\\n",
    ".config(\"spark.driver.memory\",\"2g\") \\\n",
    ".getOrCreate()\n",
    "\n",
    "# sparkContext'i kısaltmada tut\n",
    "sc = spark.sparkContext"
   ]
  },
  {
   "cell_type": "code",
   "execution_count": 76,
   "metadata": {},
   "outputs": [],
   "source": [
    "retailRDD = sc.textFile(\"C:\\\\Users\\\\toshiba\\\\SkyDrive\\\\veribilimi.co\\\\Datasets\\\\OnlineRetail.csv\")"
   ]
  },
  {
   "cell_type": "code",
   "execution_count": 77,
   "metadata": {},
   "outputs": [
    {
     "data": {
      "text/plain": [
       "['InvoiceNo;StockCode;Description;Quantity;InvoiceDate;UnitPrice;CustomerID;Country',\n",
       " '536365;85123A;WHITE HANGING HEART T-LIGHT HOLDER;6;1.12.2010 08:26;2,55;17850;United Kingdom',\n",
       " '536365;71053;WHITE METAL LANTERN;6;1.12.2010 08:26;3,39;17850;United Kingdom',\n",
       " '536365;84406B;CREAM CUPID HEARTS COAT HANGER;8;1.12.2010 08:26;2,75;17850;United Kingdom',\n",
       " '536365;84029G;KNITTED UNION FLAG HOT WATER BOTTLE;6;1.12.2010 08:26;3,39;17850;United Kingdom']"
      ]
     },
     "execution_count": 77,
     "metadata": {},
     "output_type": "execute_result"
    }
   ],
   "source": [
    "retailRDD.take(5)"
   ]
  },
  {
   "cell_type": "markdown",
   "metadata": {},
   "source": [
    "## Header satırından kurtulma"
   ]
  },
  {
   "cell_type": "code",
   "execution_count": 78,
   "metadata": {},
   "outputs": [],
   "source": [
    "firstline = retailRDD.first()\n",
    "firstlinerdd = sc.parallelize([firstline])"
   ]
  },
  {
   "cell_type": "code",
   "execution_count": 79,
   "metadata": {},
   "outputs": [],
   "source": [
    "retailRDDWithoutHeader = retailRDD.subtract(firstlinerdd)"
   ]
  },
  {
   "cell_type": "code",
   "execution_count": 80,
   "metadata": {},
   "outputs": [
    {
     "data": {
      "text/plain": [
       "['536367;84969;BOX OF 6 ASSORTED COLOUR TEASPOONS;6;1.12.2010 08:34;4,25;13047;United Kingdom',\n",
       " '536369;21756;BATH BUILDING BLOCK WORD;3;1.12.2010 08:35;5,95;13047;United Kingdom',\n",
       " '536370;10002;INFLATABLE POLITICAL GLOBE ;48;1.12.2010 08:45;0,85;12583;France',\n",
       " '536370;21731;RED TOADSTOOL LED NIGHT LIGHT;24;1.12.2010 08:45;1,65;12583;France',\n",
       " '536370;22540;MINI JIGSAW CIRCUS PARADE ;24;1.12.2010 08:45;0,42;12583;France']"
      ]
     },
     "execution_count": 80,
     "metadata": {},
     "output_type": "execute_result"
    }
   ],
   "source": [
    "retailRDDWithoutHeader.take(5)"
   ]
  },
  {
   "cell_type": "code",
   "execution_count": null,
   "metadata": {},
   "outputs": [],
   "source": []
  },
  {
   "cell_type": "markdown",
   "metadata": {},
   "source": [
    "### InvoiceNo 536367 olan siparişleri filtreleyelim"
   ]
  },
  {
   "cell_type": "code",
   "execution_count": 86,
   "metadata": {},
   "outputs": [
    {
     "data": {
      "text/plain": [
       "['536367;84969;BOX OF 6 ASSORTED COLOUR TEASPOONS;6;1.12.2010 08:34;4,25;13047;United Kingdom',\n",
       " '536367;84879;ASSORTED COLOUR BIRD ORNAMENT;32;1.12.2010 08:34;1,69;13047;United Kingdom',\n",
       " '536367;21755;LOVE BUILDING BLOCK WORD;3;1.12.2010 08:34;5,95;13047;United Kingdom',\n",
       " \"536367;22745;POPPY'S PLAYHOUSE BEDROOM ;6;1.12.2010 08:34;2,1;13047;United Kingdom\",\n",
       " '536367;48187;DOORMAT NEW ENGLAND;4;1.12.2010 08:34;7,95;13047;United Kingdom',\n",
       " '536367;22310;IVORY KNITTED MUG COSY ;6;1.12.2010 08:34;1,65;13047;United Kingdom',\n",
       " '536367;21754;HOME BUILDING BLOCK WORD;3;1.12.2010 08:34;5,95;13047;United Kingdom',\n",
       " \"536367;22748;POPPY'S PLAYHOUSE KITCHEN;6;1.12.2010 08:34;2,1;13047;United Kingdom\",\n",
       " '536367;22749;FELTCRAFT PRINCESS CHARLOTTE DOLL;8;1.12.2010 08:34;3,75;13047;United Kingdom',\n",
       " '536367;22623;BOX OF VINTAGE JIGSAW BLOCKS ;3;1.12.2010 08:34;4,95;13047;United Kingdom']"
      ]
     },
     "execution_count": 86,
     "metadata": {},
     "output_type": "execute_result"
    }
   ],
   "source": [
    "# InvoiceNo değerini string yazarak \n",
    "retailRDDWithoutHeader.filter(lambda line: line.split(\";\")[0] == '536367').take(10)"
   ]
  },
  {
   "cell_type": "markdown",
   "metadata": {},
   "source": [
    "### Ürün isimlerinden COFFEE içerenleri filtreleme"
   ]
  },
  {
   "cell_type": "code",
   "execution_count": 119,
   "metadata": {},
   "outputs": [
    {
     "data": {
      "text/plain": [
       "['536544;22300;COFFEE MUG DOG + BALL DESIGN;1;1.12.2010 14:32;5,06;;United Kingdom',\n",
       " '536544;22301;COFFEE MUG CAT + BIRD DESIGN;2;1.12.2010 14:32;5,06;;United Kingdom',\n",
       " '536739;85159A;BLACK TEA,COFFEE,SUGAR JARS;2;2.12.2010 13:08;6,35;14180;United Kingdom',\n",
       " '536750;37370;RETRO COFFEE MUGS ASSORTED;6;2.12.2010 14:04;1,06;17850;United Kingdom',\n",
       " '536787;37370;RETRO COFFEE MUGS ASSORTED;6;2.12.2010 15:24;1,06;17850;United Kingdom',\n",
       " '536804;37370;RETRO COFFEE MUGS ASSORTED;72;2.12.2010 16:34;1,06;14031;United Kingdom',\n",
       " '536805;37370;RETRO COFFEE MUGS ASSORTED;12;2.12.2010 16:38;1,25;14775;United Kingdom',\n",
       " '536862;37370;RETRO COFFEE MUGS ASSORTED;2;3.12.2010 11:13;16,13;;United Kingdom',\n",
       " '536876;22301;COFFEE MUG CAT + BIRD DESIGN;1;3.12.2010 11:36;5,06;;United Kingdom',\n",
       " '536876;22304;COFFEE MUG BLUE PAISLEY DESIGN;1;3.12.2010 11:36;5,06;;United Kingdom',\n",
       " '536876;21216;SET 3 RETROSPOT TEA,COFFEE,SUGAR;1;3.12.2010 11:36;11,02;;United Kingdom',\n",
       " '537126;21216;SET 3 RETROSPOT TEA,COFFEE,SUGAR;1;5.12.2010 12:13;4,95;18118;United Kingdom',\n",
       " '537231;22304;COFFEE MUG BLUE PAISLEY DESIGN;6;6.12.2010 09:21;2,55;13652;United Kingdom',\n",
       " '537236;21216;SET 3 RETROSPOT TEA,COFFEE,SUGAR;8;6.12.2010 09:52;4,95;16858;United Kingdom',\n",
       " '537237;22301;COFFEE MUG CAT + BIRD DESIGN;1;6.12.2010 09:58;5,06;;United Kingdom',\n",
       " '537240;22300;COFFEE MUG DOG + BALL DESIGN;1;6.12.2010 10:08;5,06;;United Kingdom',\n",
       " '537369;72122;COFFEE SCENT PILLAR CANDLE;1;6.12.2010 12:41;0,95;17860;United Kingdom',\n",
       " '537434;37370;RETRO COFFEE MUGS ASSORTED;2;6.12.2010 16:57;16,13;;United Kingdom',\n",
       " '537465;37370;RETRO COFFEE MUGS ASSORTED;12;7.12.2010 10:32;1,25;17735;United Kingdom',\n",
       " '537685;22301;COFFEE MUG CAT + BIRD DESIGN;6;8.12.2010 10:21;2,55;18077;United Kingdom']"
      ]
     },
     "execution_count": 119,
     "metadata": {},
     "output_type": "execute_result"
    }
   ],
   "source": [
    "# Ürün isimlerinden COFFEE içerenleri filtreleme\n",
    "retailRDDWithoutHeader.filter(lambda line: 'COFFEE' in line.split(\";\")[2]).take(20)"
   ]
  },
  {
   "cell_type": "code",
   "execution_count": 126,
   "metadata": {},
   "outputs": [
    {
     "data": {
      "text/plain": [
       "['536367;84969;BOX OF 6 ASSORTED COLOUR TEASPOONS;6;1.12.2010 08:34;4,25;13047;United Kingdom',\n",
       " '536369;21756;BATH BUILDING BLOCK WORD;3;1.12.2010 08:35;5,95;13047;United Kingdom',\n",
       " '536370;10002;INFLATABLE POLITICAL GLOBE ;48;1.12.2010 08:45;0,85;12583;France',\n",
       " '536370;21731;RED TOADSTOOL LED NIGHT LIGHT;24;1.12.2010 08:45;1,65;12583;France',\n",
       " '536370;22540;MINI JIGSAW CIRCUS PARADE ;24;1.12.2010 08:45;0,42;12583;France',\n",
       " '536372;22632;HAND WARMER RED POLKA DOT;6;1.12.2010 09:01;1,85;17850;United Kingdom',\n",
       " '536373;82494L;WOODEN FRAME ANTIQUE WHITE ;6;1.12.2010 09:02;2,55;17850;United Kingdom',\n",
       " '536378;21559;STRAWBERRY LUNCH BOX WITH CUTLERY;6;1.12.2010 09:37;2,55;14688;United Kingdom',\n",
       " '536378;85183B;CHARLIE & LOLA WASTEPAPER BIN FLORA;48;1.12.2010 09:37;1,25;14688;United Kingdom',\n",
       " '536381;21166;COOK WITH WINE METAL SIGN ;1;1.12.2010 09:41;1,95;15311;United Kingdom']"
      ]
     },
     "execution_count": 126,
     "metadata": {},
     "output_type": "execute_result"
    }
   ],
   "source": [
    "retailRDDWithoutHeader.filter(lambda line: float(line.split(\";\")[6]) > 2000.0).take(10)"
   ]
  },
  {
   "cell_type": "code",
   "execution_count": null,
   "metadata": {},
   "outputs": [],
   "source": []
  },
  {
   "cell_type": "markdown",
   "metadata": {},
   "source": [
    "### Bir fonksiyon ile filtreleme yapma "
   ]
  },
  {
   "cell_type": "code",
   "execution_count": 91,
   "metadata": {},
   "outputs": [],
   "source": [
    "# Quantity > 10\n",
    "def miktari_ondan_buyukler(x):\n",
    "    id = x.split(\";\")[3]\n",
    "    return int(id) > 10"
   ]
  },
  {
   "cell_type": "code",
   "execution_count": 92,
   "metadata": {},
   "outputs": [
    {
     "data": {
      "text/plain": [
       "['536370;10002;INFLATABLE POLITICAL GLOBE ;48;1.12.2010 08:45;0,85;12583;France',\n",
       " '536370;21731;RED TOADSTOOL LED NIGHT LIGHT;24;1.12.2010 08:45;1,65;12583;France',\n",
       " '536370;22540;MINI JIGSAW CIRCUS PARADE ;24;1.12.2010 08:45;0,42;12583;France',\n",
       " '536378;85183B;CHARLIE & LOLA WASTEPAPER BIN FLORA;48;1.12.2010 09:37;1,25;14688;United Kingdom',\n",
       " '536381;22719;GUMBALL MONOCHROME COAT RACK;36;1.12.2010 09:41;1,06;15311;United Kingdom',\n",
       " '536384;22457;NATURAL SLATE HEART CHALKBOARD ;12;1.12.2010 09:53;2,95;18074;United Kingdom',\n",
       " '536384;22470;HEART OF WICKER LARGE;40;1.12.2010 09:53;2,55;18074;United Kingdom',\n",
       " '536386;85099C;JUMBO  BAG BAROQUE BLACK WHITE;100;1.12.2010 09:57;1,65;16029;United Kingdom',\n",
       " '536387;79321;CHILLI LIGHTS;192;1.12.2010 09:58;3,82;16029;United Kingdom',\n",
       " '536388;22922;FRIDGE MAGNETS US DINER ASSORTED;12;1.12.2010 09:59;0,85;16250;United Kingdom']"
      ]
     },
     "execution_count": 92,
     "metadata": {},
     "output_type": "execute_result"
    }
   ],
   "source": [
    "retailRDDWithoutHeader.filter(lambda x: miktari_ondan_buyukler(x)).take(10)"
   ]
  },
  {
   "cell_type": "markdown",
   "metadata": {},
   "source": [
    "### Biraz daha karmaşık bir fonksiyon yazalım"
   ]
  },
  {
   "cell_type": "code",
   "execution_count": 115,
   "metadata": {},
   "outputs": [],
   "source": [
    "# Belirli bir tarihten sonra belli bir ülkede gerçekleşen işlemler\n",
    "import datetime\n",
    "# InvoiceNo;StockCode;Description;Quantity;InvoiceDate;UnitPrice;CustomerID;Country\n",
    "def daha_karmasik_filtre(x):\n",
    "    InvoiceNo = x.split(\";\")[0]\n",
    "    StockCode = x.split(\";\")[1]\n",
    "    Description = x.split(\";\")[2]\n",
    "    Quantity = x.split(\";\")[3]\n",
    "    InvoiceDate = x.split(\";\")[4]\n",
    "    UnitPrice = x.split(\";\")[5]\n",
    "    CustomerID = x.split(\";\")[6]\n",
    "    Country = x.split(\";\")[7]\n",
    "    \n",
    "    tarih = datetime.datetime.strptime(InvoiceDate, \"%d.%m.%Y %H:%M\")\n",
    "    \n",
    "    return tarih >= datetime.datetime(2010, 12, 1, 9, 58) and Country.startswith('United')"
   ]
  },
  {
   "cell_type": "code",
   "execution_count": 116,
   "metadata": {},
   "outputs": [
    {
     "data": {
      "text/plain": [
       "['536387;79321;CHILLI LIGHTS;192;1.12.2010 09:58;3,82;16029;United Kingdom',\n",
       " '536388;21411;GINGHAM HEART  DOORSTOP RED;3;1.12.2010 09:59;4,25;16250;United Kingdom',\n",
       " '536388;22922;FRIDGE MAGNETS US DINER ASSORTED;12;1.12.2010 09:59;0,85;16250;United Kingdom',\n",
       " '536388;22469;HEART OF WICKER SMALL;12;1.12.2010 09:59;1,65;16250;United Kingdom',\n",
       " '536388;22242;5 HOOK HANGER MAGIC TOADSTOOL;12;1.12.2010 09:59;1,65;16250;United Kingdom',\n",
       " '536390;22960;JAM MAKING SET WITH JARS;12;1.12.2010 10:19;3,75;17511;United Kingdom',\n",
       " '536390;20668;DISCO BALL CHRISTMAS DECORATION;288;1.12.2010 10:19;0,1;17511;United Kingdom',\n",
       " '536390;22197;SMALL POPCORN HOLDER;100;1.12.2010 10:19;0,72;17511;United Kingdom',\n",
       " '536390;22198;LARGE POPCORN HOLDER ;50;1.12.2010 10:19;1,45;17511;United Kingdom',\n",
       " '536390;22174;PHOTO CUBE;48;1.12.2010 10:19;1,48;17511;United Kingdom',\n",
       " '536390;85099B;JUMBO BAG RED RETROSPOT;100;1.12.2010 10:19;1,65;17511;United Kingdom',\n",
       " '536392;22150;3 STRIPEY MICE FELTCRAFT;6;1.12.2010 10:29;1,95;13705;United Kingdom',\n",
       " '536392;22127;PARTY CONES CARNIVAL ASSORTED;12;1.12.2010 10:29;1,25;13705;United Kingdom',\n",
       " '536392;84879;ASSORTED COLOUR BIRD ORNAMENT;16;1.12.2010 10:29;1,69;13705;United Kingdom',\n",
       " '536394;22866;HAND WARMER SCOTTY DOG DESIGN;96;1.12.2010 10:39;1,85;13408;United Kingdom',\n",
       " '536395;84991;60 TEATIME FAIRY CAKE CASES;24;1.12.2010 10:47;0,55;13767;United Kingdom',\n",
       " '536395;22730;ALARM CLOCK BAKELIKE IVORY;4;1.12.2010 10:47;3,75;13767;United Kingdom',\n",
       " '536396;84406B;CREAM CUPID HEARTS COAT HANGER;8;1.12.2010 10:51;2,75;17850;United Kingdom',\n",
       " '536396;82482;WOODEN PICTURE FRAME WHITE FINISH;6;1.12.2010 10:51;2,1;17850;United Kingdom',\n",
       " '536398;22752;SET 7 BABUSHKA NESTING BOXES;6;1.12.2010 10:52;8,5;13448;United Kingdom',\n",
       " '536398;22449;SILK PURSE BABUSHKA PINK;6;1.12.2010 10:52;3,35;13448;United Kingdom',\n",
       " '536398;22111;SCOTTIE DOG HOT WATER BOTTLE;9;1.12.2010 10:52;4,95;13448;United Kingdom',\n",
       " '536399;22632;HAND WARMER RED POLKA DOT;6;1.12.2010 10:52;1,85;17850;United Kingdom',\n",
       " '536401;22100;SKULLS SQUARE TISSUE BOX;2;1.12.2010 11:21;1,25;15862;United Kingdom',\n",
       " '536401;84744;S/6 SEW ON CROCHET FLOWERS;1;1.12.2010 11:21;1,25;15862;United Kingdom',\n",
       " '536401;21328;BALLOONS  WRITING SET ;1;1.12.2010 11:21;1,65;15862;United Kingdom',\n",
       " '536401;22961;JAM MAKING SET PRINTED;4;1.12.2010 11:21;1,45;15862;United Kingdom',\n",
       " '536401;17091A;LAVENDER INCENSE IN TIN;1;1.12.2010 11:21;1,25;15862;United Kingdom',\n",
       " '536401;85150;LADIES & GENTLEMEN METAL SIGN;1;1.12.2010 11:21;2,55;15862;United Kingdom',\n",
       " '536401;22117;METAL SIGN HER DINNER IS SERVED ;1;1.12.2010 11:21;2,95;15862;United Kingdom',\n",
       " '536401;82581;TOILET METAL SIGN;2;1.12.2010 11:21;0,55;15862;United Kingdom',\n",
       " \"536401;21907;I'M ON HOLIDAY METAL SIGN;2;1.12.2010 11:21;2,1;15862;United Kingdom\",\n",
       " '536401;21122;SET/10 PINK POLKADOT PARTY CANDLES;1;1.12.2010 11:21;1,25;15862;United Kingdom',\n",
       " '536401;20726;LUNCH BAG WOODLAND;1;1.12.2010 11:21;1,65;15862;United Kingdom',\n",
       " '536401;21108;FAIRY CAKE FLANNEL ASSORTED COLOUR;9;1.12.2010 11:21;2,55;15862;United Kingdom',\n",
       " '536401;21033;JUMBO BAG CHARLIE AND LOLA TOYS;4;1.12.2010 11:21;2,95;15862;United Kingdom',\n",
       " '536401;22428;ENAMEL FIRE BUCKET CREAM;2;1.12.2010 11:21;6,95;15862;United Kingdom',\n",
       " \"536402;22086;PAPER CHAIN KIT 50'S CHRISTMAS ;40;1.12.2010 11:22;2,55;15513;United Kingdom\",\n",
       " '536404;22773;GREEN DRAWER KNOB ACRYLIC EDWARDIAN;12;1.12.2010 11:29;1,25;16218;United Kingdom',\n",
       " '536404;22805;BLUE DRAWER KNOB ACRYLIC EDWARDIAN;12;1.12.2010 11:29;1,25;16218;United Kingdom',\n",
       " '536404;22469;HEART OF WICKER SMALL;12;1.12.2010 11:29;1,65;16218;United Kingdom',\n",
       " '536404;85049G;CHOCOLATE BOX RIBBONS ;12;1.12.2010 11:29;1,25;16218;United Kingdom',\n",
       " '536404;84378;SET OF 3 HEART COOKIE CUTTERS;12;1.12.2010 11:29;1,25;16218;United Kingdom',\n",
       " '536406;82483;WOOD 2 DRAWER CABINET WHITE FINISH;4;1.12.2010 11:33;4,95;17850;United Kingdom',\n",
       " '536406;21730;GLASS STAR FROSTED T-LIGHT HOLDER;6;1.12.2010 11:33;4,25;17850;United Kingdom',\n",
       " '536408;21832;CHOCOLATE CALCULATOR;12;1.12.2010 11:41;1,65;14307;United Kingdom',\n",
       " '536408;84029E;RED WOOLLY HOTTIE WHITE HEART.;4;1.12.2010 11:41;3,75;14307;United Kingdom',\n",
       " '536408;21479;WHITE SKULL HOT WATER BOTTLE ;4;1.12.2010 11:41;3,75;14307;United Kingdom',\n",
       " '536408;48194;DOORMAT HEARTS;2;1.12.2010 11:41;7,95;14307;United Kingdom',\n",
       " '536408;22488;NATURAL SLATE RECTANGLE CHALKBOARD;12;1.12.2010 11:41;1,65;14307;United Kingdom',\n",
       " '536408;84879;ASSORTED COLOUR BIRD ORNAMENT;8;1.12.2010 11:41;1,69;14307;United Kingdom',\n",
       " '536408;22766;PHOTO FRAME CORNICE;8;1.12.2010 11:41;2,95;14307;United Kingdom',\n",
       " '536408;22492;MINI PAINT SET VINTAGE ;36;1.12.2010 11:41;0,65;14307;United Kingdom',\n",
       " '536408;22620;4 TRADITIONAL SPINNING TOPS;12;1.12.2010 11:41;1,25;14307;United Kingdom',\n",
       " '536409;90199C;5 STRAND GLASS NECKLACE CRYSTAL;3;1.12.2010 11:45;6,35;17908;United Kingdom',\n",
       " '536409;21955;DOORMAT UNION JACK GUNS AND ROSES;1;1.12.2010 11:45;7,95;17908;United Kingdom',\n",
       " '536409;22109;FULL ENGLISH BREAKFAST PLATE;1;1.12.2010 11:45;3,75;17908;United Kingdom',\n",
       " '536409;84625A;PINK NEW BAROQUECANDLESTICK CANDLE;1;1.12.2010 11:45;2,95;17908;United Kingdom',\n",
       " '536409;84625C;BLUE NEW BAROQUE CANDLESTICK CANDLE;3;1.12.2010 11:45;2,95;17908;United Kingdom',\n",
       " '536409;21931;JUMBO STORAGE BAG SUKI;2;1.12.2010 11:45;1,95;17908;United Kingdom',\n",
       " '536409;85169B;BLACK LOVE BIRD CANDLE;12;1.12.2010 11:45;1,25;17908;United Kingdom',\n",
       " \"536409;84906;PINK B'FLY C/COVER W BOBBLES;1;1.12.2010 11:45;5,95;17908;United Kingdom\",\n",
       " '536409;22075;6 RIBBONS ELEGANT CHRISTMAS ;1;1.12.2010 11:45;1,65;17908;United Kingdom',\n",
       " '536409;20713;JUMBO BAG OWLS;1;1.12.2010 11:45;1,95;17908;United Kingdom',\n",
       " '536409;20966;SANDWICH BATH SPONGE;2;1.12.2010 11:45;1,25;17908;United Kingdom',\n",
       " '536409;20717;STRAWBERRY SHOPPER BAG;1;1.12.2010 11:45;1,25;17908;United Kingdom',\n",
       " '536409;22112;CHOCOLATE HOT WATER BOTTLE;1;1.12.2010 11:45;4,95;17908;United Kingdom',\n",
       " '536412;22327;ROUND SNACK BOXES SET OF 4 SKULLS;1;1.12.2010 11:49;2,95;17920;United Kingdom',\n",
       " '536412;22327;ROUND SNACK BOXES SET OF 4 SKULLS;1;1.12.2010 11:49;2,95;17920;United Kingdom',\n",
       " '536412;22629;SPACEBOY LUNCH BOX ;1;1.12.2010 11:49;1,95;17920;United Kingdom',\n",
       " '536412;21242;RED RETROSPOT PLATE ;1;1.12.2010 11:49;1,69;17920;United Kingdom',\n",
       " '536412;21243;PINK  POLKADOT PLATE ;1;1.12.2010 11:49;1,69;17920;United Kingdom',\n",
       " '536412;22652;TRAVEL SEWING KIT;5;1.12.2010 11:49;1,65;17920;United Kingdom',\n",
       " '536412;21448;12 DAISY PEGS IN WOOD BOX;2;1.12.2010 11:49;1,65;17920;United Kingdom',\n",
       " '536412;21448;12 DAISY PEGS IN WOOD BOX;2;1.12.2010 11:49;1,65;17920;United Kingdom',\n",
       " '536412;21448;12 DAISY PEGS IN WOOD BOX;2;1.12.2010 11:49;1,65;17920;United Kingdom',\n",
       " '536412;22077;6 RIBBONS RUSTIC CHARM;2;1.12.2010 11:49;1,65;17920;United Kingdom',\n",
       " '536412;22759;SET OF 3 NOTEBOOKS IN PARCEL;5;1.12.2010 11:49;1,65;17920;United Kingdom',\n",
       " '536412;22144;CHRISTMAS CRAFT LITTLE FRIENDS;1;1.12.2010 11:49;2,1;17920;United Kingdom',\n",
       " \"536412;22086;PAPER CHAIN KIT 50'S CHRISTMAS ;1;1.12.2010 11:49;2,95;17920;United Kingdom\",\n",
       " '536412;21711;FOLDING UMBRELLA WHITE/RED POLKADOT;1;1.12.2010 11:49;4,95;17920;United Kingdom',\n",
       " '536415;35591T;TURQUOISE CHRISTMAS TREE ;2;1.12.2010 11:57;1,25;12838;United Kingdom',\n",
       " '536415;22321;BIRD DECORATION RED RETROSPOT;12;1.12.2010 11:57;0,85;12838;United Kingdom',\n",
       " '536415;21212;PACK OF 72 RETROSPOT CAKE CASES;2;1.12.2010 11:57;0,55;12838;United Kingdom',\n",
       " '536415;22834;HAND WARMER BABUSHKA DESIGN;3;1.12.2010 11:57;2,1;12838;United Kingdom',\n",
       " '536415;22867;HAND WARMER BIRD DESIGN;3;1.12.2010 11:57;2,1;12838;United Kingdom',\n",
       " '536415;22472;TV DINNER TRAY DOLLY GIRL;2;1.12.2010 11:57;4,95;12838;United Kingdom',\n",
       " '536415;22749;FELTCRAFT PRINCESS CHARLOTTE DOLL;2;1.12.2010 11:57;3,75;12838;United Kingdom',\n",
       " '536416;21915;RED  HARMONICA IN BOX ;72;1.12.2010 11:58;1,25;13255;United Kingdom',\n",
       " '536416;22768;FAMILY PHOTO FRAME CORNICE;4;1.12.2010 11:58;9,95;13255;United Kingdom',\n",
       " '536416;22767;TRIPLE PHOTO FRAME CORNICE ;4;1.12.2010 11:58;9,95;13255;United Kingdom',\n",
       " '536420;21716;BOYS VINTAGE TIN SEASIDE BUCKET;8;1.12.2010 12:03;2,55;16583;United Kingdom',\n",
       " '536420;22969;HOMEMADE JAM SCENTED CANDLES;12;1.12.2010 12:03;1,45;16583;United Kingdom',\n",
       " '536423;84029E;RED WOOLLY HOTTIE WHITE HEART.;8;1.12.2010 12:08;3,75;18085;United Kingdom',\n",
       " '536437;17021;NAMASTE SWAGAT INCENSE;600;1.12.2010 12:12;0,24;13694;United Kingdom',\n",
       " '536446;22144;CHRISTMAS CRAFT LITTLE FRIENDS;2;1.12.2010 12:15;2,1;15983;United Kingdom',\n",
       " '536446;21591;COSY HOUR CIGAR BOX MATCHES ;6;1.12.2010 12:15;1,25;15983;United Kingdom',\n",
       " '536446;22480;RED TEA TOWEL CLASSIC DESIGN;12;1.12.2010 12:15;1,25;15983;United Kingdom',\n",
       " '536446;84836;ZINC METAL HEART DECORATION;12;1.12.2010 12:15;1,25;15983;United Kingdom',\n",
       " '536446;22619;SET OF 6 SOLDIER SKITTLES;8;1.12.2010 12:15;3,75;15983;United Kingdom',\n",
       " '536446;22620;4 TRADITIONAL SPINNING TOPS;6;1.12.2010 12:15;1,25;15983;United Kingdom',\n",
       " '536446;21586;KINGS CHOICE GIANT TUBE MATCHES;4;1.12.2010 12:15;2,55;15983;United Kingdom',\n",
       " '536446;21587;COSY HOUR GIANT TUBE MATCHES;4;1.12.2010 12:15;2,55;15983;United Kingdom',\n",
       " '536446;85172;HYACINTH BULB T-LIGHT CANDLES;16;1.12.2010 12:15;0,42;15983;United Kingdom',\n",
       " '536446;84754;S/15 SILVER GLASS BAUBLES IN BAG;24;1.12.2010 12:15;1,25;15983;United Kingdom',\n",
       " '536460;22926;IVORY GIANT GARDEN THERMOMETER;4;1.12.2010 12:22;5,95;14849;United Kingdom',\n",
       " '536460;21485;RETROSPOT HEART HOT WATER BOTTLE;6;1.12.2010 12:22;4,95;14849;United Kingdom',\n",
       " '536464;90059B;DIAMANTE HAIR GRIP PACK/2 BLACK DIA;2;1.12.2010 12:23;1,65;17968;United Kingdom',\n",
       " '536464;21980;PACK OF 12 RED RETROSPOT TISSUES ;1;1.12.2010 12:23;0,29;17968;United Kingdom',\n",
       " '536464;22295;HEART FILIGREE DOVE LARGE;1;1.12.2010 12:23;1,65;17968;United Kingdom',\n",
       " '536464;21977;PACK OF 60 PINK PAISLEY CAKE CASES;1;1.12.2010 12:23;0,55;17968;United Kingdom',\n",
       " '536464;22619;SET OF 6 SOLDIER SKITTLES;1;1.12.2010 12:23;3,75;17968;United Kingdom',\n",
       " '536464;22573;STAR WOODEN CHRISTMAS DECORATION;1;1.12.2010 12:23;0,85;17968;United Kingdom',\n",
       " '536464;20866;BLUE ROSE FABRIC MIRROR;1;1.12.2010 12:23;1,25;17968;United Kingdom',\n",
       " '536464;22866;HAND WARMER SCOTTY DOG DESIGN;1;1.12.2010 12:23;2,1;17968;United Kingdom',\n",
       " '536464;22866;HAND WARMER SCOTTY DOG DESIGN;1;1.12.2010 12:23;2,1;17968;United Kingdom',\n",
       " '536464;22866;HAND WARMER SCOTTY DOG DESIGN;1;1.12.2010 12:23;2,1;17968;United Kingdom',\n",
       " '536464;21212;PACK OF 72 RETROSPOT CAKE CASES;1;1.12.2010 12:23;0,55;17968;United Kingdom',\n",
       " '536464;22759;SET OF 3 NOTEBOOKS IN PARCEL;1;1.12.2010 12:23;1,65;17968;United Kingdom',\n",
       " '536464;85231B;CINAMMON SET OF 9 T-LIGHTS;3;1.12.2010 12:23;0,85;17968;United Kingdom',\n",
       " '536464;22500;SET OF 2 TINS JARDIN DE PROVENCE;2;1.12.2010 12:23;4,95;17968;United Kingdom',\n",
       " '536464;22742;MAKE YOUR OWN PLAYTIME CARD KIT;1;1.12.2010 12:23;2,95;17968;United Kingdom',\n",
       " '536464;21327;SKULLS WRITING SET ;1;1.12.2010 12:23;1,65;17968;United Kingdom',\n",
       " '536464;21738;COSY SLIPPER SHOES SMALL  RED ;1;1.12.2010 12:23;2,95;17968;United Kingdom',\n",
       " '536477;21137;BLACK RECORD COVER FRAME;480;1.12.2010 12:27;3,39;16210;United Kingdom',\n",
       " '536488;22867;HAND WARMER BIRD DESIGN;1;1.12.2010 12:31;2,1;17897;United Kingdom',\n",
       " '536488;21190;PINK HEARTS PAPER GARLAND;1;1.12.2010 12:31;1,65;17897;United Kingdom',\n",
       " '536488;84347;ROTATING SILVER ANGELS T-LIGHT HLDR;3;1.12.2010 12:31;2,55;17897;United Kingdom',\n",
       " '536488;22150;3 STRIPEY MICE FELTCRAFT;1;1.12.2010 12:31;1,95;17897;United Kingdom',\n",
       " '536500;22024;RAINY LADIES BIRTHDAY CARD;12;1.12.2010 12:35;0,42;17377;United Kingdom',\n",
       " '536500;22900; SET 2 TEA TOWELS I LOVE LONDON ;7;1.12.2010 12:35;2,95;17377;United Kingdom',\n",
       " '536500;21035;SET/2 RED RETROSPOT TEA TOWELS ;3;1.12.2010 12:35;2,95;17377;United Kingdom',\n",
       " '536514;22485;SET OF 2 WOODEN MARKET CRATES;4;1.12.2010 12:40;12,75;17951;United Kingdom',\n",
       " '536514;22866;HAND WARMER SCOTTY DOG DESIGN;36;1.12.2010 12:40;2,1;17951;United Kingdom',\n",
       " '536520;20707;CRAZY DAISY HEART DECORATION;1;1.12.2010 12:43;1,25;14729;United Kingdom',\n",
       " '536520;21292;SMALL STRIPES CHOCOLATE GIFT BAG ;16;1.12.2010 12:43;0,85;14729;United Kingdom',\n",
       " '536520;21890;S/6 WOODEN SKITTLES IN COTTON BAG;1;1.12.2010 12:43;2,95;14729;United Kingdom',\n",
       " '536520;22107;PIZZA PLATE IN BOX;2;1.12.2010 12:43;3,75;14729;United Kingdom',\n",
       " '536520;22812;PACK 3 BOXES CHRISTMAS PANNETONE;3;1.12.2010 12:43;1,95;14729;United Kingdom',\n",
       " '536520;22575;METAL MERRY CHRISTMAS WREATH;1;1.12.2010 12:43;1,95;14729;United Kingdom',\n",
       " '536520;22152;PLACE SETTING WHITE STAR;12;1.12.2010 12:43;0,42;14729;United Kingdom',\n",
       " '536520;22092;BLUE PAISLEY TISSUE BOX;1;1.12.2010 12:43;1,25;14729;United Kingdom',\n",
       " '536520;21034;REX CASH+CARRY JUMBO SHOPPER;2;1.12.2010 12:43;0,95;14729;United Kingdom',\n",
       " '536520;21930;JUMBO STORAGE BAG SKULLS;1;1.12.2010 12:43;1,95;14729;United Kingdom',\n",
       " '536522;47599B;BLUE PARTY BAGS ;1;1.12.2010 12:49;2,1;15012;United Kingdom',\n",
       " '536522;21664;RIDGED GLASS STORAGE JAR CREAM LID;2;1.12.2010 12:49;3,75;15012;United Kingdom',\n",
       " '536522;22865;HAND WARMER OWL DESIGN;2;1.12.2010 12:49;2,1;15012;United Kingdom',\n",
       " '536522;20914;SET/5 RED RETROSPOT LID GLASS BOWLS;1;1.12.2010 12:49;2,95;15012;United Kingdom',\n",
       " '536522;85014A;BLACK/BLUE POLKADOT UMBRELLA;1;1.12.2010 12:49;5,95;15012;United Kingdom',\n",
       " '536522;21124;SET/10 BLUE POLKADOT PARTY CANDLES;2;1.12.2010 12:49;1,25;15012;United Kingdom',\n",
       " '536522;22566;FELTCRAFT HAIRBAND PINK AND PURPLE;1;1.12.2010 12:49;0,85;15012;United Kingdom',\n",
       " '536523;22149;FELTCRAFT 6 FLOWER FRIENDS;6;1.12.2010 12:50;2,1;12868;United Kingdom',\n",
       " '536525;22149;FELTCRAFT 6 FLOWER FRIENDS;1;1.12.2010 12:54;2,1;14078;United Kingdom',\n",
       " \"536525;17164B;ASS COL SMALL SAND GECKO P'WEIGHT;2;1.12.2010 12:54;0,42;14078;United Kingdom\",\n",
       " '536525;20973;12 PENCIL SMALL TUBE WOODLAND;2;1.12.2010 12:54;0,65;14078;United Kingdom',\n",
       " '536525;15044B;BLUE PAPER PARASOL ;1;1.12.2010 12:54;2,95;14078;United Kingdom',\n",
       " '536526;85099B;JUMBO BAG RED RETROSPOT;10;1.12.2010 12:58;1,95;14001;United Kingdom',\n",
       " '536526;22113;GREY HEART HOT WATER BOTTLE;8;1.12.2010 12:58;3,75;14001;United Kingdom',\n",
       " '536528;22815;CARD PSYCHEDELIC APPLES;12;1.12.2010 13:17;0,42;15525;United Kingdom',\n",
       " '536528;85114B;IVORY ENCHANTED FOREST PLACEMAT;1;1.12.2010 13:17;1,65;15525;United Kingdom',\n",
       " '536528;85114B;IVORY ENCHANTED FOREST PLACEMAT;1;1.12.2010 13:17;1,65;15525;United Kingdom',\n",
       " '536528;22411;JUMBO SHOPPER VINTAGE RED PAISLEY;1;1.12.2010 13:17;1,95;15525;United Kingdom',\n",
       " '536528;22411;JUMBO SHOPPER VINTAGE RED PAISLEY;1;1.12.2010 13:17;1,95;15525;United Kingdom',\n",
       " '536528;22616;PACK OF 12 LONDON TISSUES ;1;1.12.2010 13:17;0,29;15525;United Kingdom',\n",
       " '536528;22910;PAPER CHAIN KIT VINTAGE CHRISTMAS;3;1.12.2010 13:17;2,95;15525;United Kingdom',\n",
       " '536528;22900; SET 2 TEA TOWELS I LOVE LONDON ;1;1.12.2010 13:17;2,95;15525;United Kingdom',\n",
       " '536528;22568;FELTCRAFT CUSHION OWL;3;1.12.2010 13:17;3,75;15525;United Kingdom',\n",
       " '536528;22570;FELTCRAFT CUSHION RABBIT;1;1.12.2010 13:17;3,75;15525;United Kingdom',\n",
       " '536528;22634;CHILDS BREAKFAST SET SPACEBOY ;1;1.12.2010 13:17;9,95;15525;United Kingdom',\n",
       " '536529;22164;STRING OF STARS CARD HOLDER;6;1.12.2010 13:20;2,95;14237;United Kingdom',\n",
       " '536529;22627;MINT KITCHEN SCALES;2;1.12.2010 13:20;8,5;14237;United Kingdom',\n",
       " '536530;22360;GLASS JAR ENGLISH CONFECTIONERY;2;1.12.2010 13:21;2,95;17905;United Kingdom',\n",
       " '536530;22423;REGENCY CAKESTAND 3 TIER;1;1.12.2010 13:21;12,75;17905;United Kingdom',\n",
       " '536530;21625;VINTAGE UNION JACK APRON;1;1.12.2010 13:21;6,95;17905;United Kingdom',\n",
       " '536530;22943;CHRISTMAS LIGHTS 10 VINTAGE BAUBLES;2;1.12.2010 13:21;4,95;17905;United Kingdom',\n",
       " '536531;22819;BIRTHDAY CARD, RETRO SPOT;24;1.12.2010 13:23;0,42;15485;United Kingdom',\n",
       " '536531;22704;WRAP RED APPLES ;25;1.12.2010 13:23;0,42;15485;United Kingdom',\n",
       " '536531;22049;WRAP CHRISTMAS SCREEN PRINT;25;1.12.2010 13:23;0,42;15485;United Kingdom',\n",
       " '536531;21333;CLASSIC WHITE FRAME;12;1.12.2010 13:23;2,95;15485;United Kingdom',\n",
       " '536531;22194;BLACK DINER WALL CLOCK;2;1.12.2010 13:23;8,5;15485;United Kingdom',\n",
       " '536531;22193;RED DINER WALL CLOCK;4;1.12.2010 13:23;8,5;15485;United Kingdom',\n",
       " '536531;22191;IVORY DINER WALL CLOCK;4;1.12.2010 13:23;8,5;15485;United Kingdom',\n",
       " '536533;22825;DECORATIVE PLANT POT WITH FRIEZE;2;1.12.2010 13:31;7,95;16955;United Kingdom',\n",
       " '536534;22866;HAND WARMER SCOTTY DOG DESIGN;12;1.12.2010 13:33;2,1;15350;United Kingdom',\n",
       " '536534;22867;HAND WARMER BIRD DESIGN;12;1.12.2010 13:33;2,1;15350;United Kingdom',\n",
       " '536535;22943;CHRISTMAS LIGHTS 10 VINTAGE BAUBLES;3;1.12.2010 13:38;4,95;15605;United Kingdom',\n",
       " '536535;22219;LOVEBIRD HANGING DECORATION WHITE ;12;1.12.2010 13:38;0,85;15605;United Kingdom',\n",
       " '536537;22277;COSMETIC BAG VINTAGE ROSE PAISLEY;36;1.12.2010 13:51;2,1;15922;United Kingdom',\n",
       " '536538;22574;HEART WOODEN CHRISTMAS DECORATION;10;1.12.2010 13:54;0,85;14594;United Kingdom',\n",
       " '536539;22173;METAL 4 HOOK HANGER FRENCH CHATEAU;8;1.12.2010 14:03;2,95;15165;United Kingdom',\n",
       " '536539;85019A;ROMANTIC IMAGES NOTEBOOK SET;4;1.12.2010 14:03;4,25;15165;United Kingdom',\n",
       " '536539;21429;RED GINGHAM ROSE JEWELLERY BOX;8;1.12.2010 14:03;1,65;15165;United Kingdom',\n",
       " '536542;85099B;JUMBO BAG RED RETROSPOT;40;1.12.2010 14:11;1,95;16456;United Kingdom',\n",
       " 'C536543;22355;CHARLOTTE BAG SUKI DESIGN;-2;1.12.2010 14:30;0,85;17841;United Kingdom',\n",
       " '536544;21773;DECORATIVE ROSE BATHROOM BOTTLE;1;1.12.2010 14:32;2,51;;United Kingdom',\n",
       " '536544;21802;CHRISTMAS TREE HEART DECORATION;9;1.12.2010 14:32;0,43;;United Kingdom',\n",
       " '536544;21811;CHRISTMAS HANGING HEART WITH BELL;1;1.12.2010 14:32;2,51;;United Kingdom',\n",
       " '536544;21821;GLITTER STAR GARLAND WITH BELLS ;1;1.12.2010 14:32;7,62;;United Kingdom',\n",
       " '536544;21870;I CAN ONLY PLEASE ONE PERSON MUG;1;1.12.2010 14:32;3,36;;United Kingdom',\n",
       " '536544;21922;UNION STRIPE WITH FRINGE  HAMMOCK;2;1.12.2010 14:32;16,98;;United Kingdom',\n",
       " '536544;21935;SUKI  SHOULDER BAG;1;1.12.2010 14:32;3,36;;United Kingdom',\n",
       " '536544;21942;SKULLS DESIGN FLANNEL;2;1.12.2010 14:32;1,66;;United Kingdom',\n",
       " '536544;21944;KITTENS DESIGN FLANNEL;1;1.12.2010 14:32;1,66;;United Kingdom',\n",
       " '536544;21977;PACK OF 60 PINK PAISLEY CAKE CASES;1;1.12.2010 14:32;1,28;;United Kingdom',\n",
       " '536544;21991;BOHEMIAN COLLAGE STATIONERY SET;1;1.12.2010 14:32;2,51;;United Kingdom',\n",
       " '536544;21993;FLORAL FOLK STATIONERY SET;4;1.12.2010 14:32;2,51;;United Kingdom',\n",
       " '536544;22071;SMALL WHITE RETROSPOT MUG IN BOX ;1;1.12.2010 14:32;7,62;;United Kingdom',\n",
       " '536544;22087;PAPER BUNTING WHITE LACE;2;1.12.2010 14:32;5,91;;United Kingdom',\n",
       " '536544;22110;BIRD HOUSE HOT WATER BOTTLE;2;1.12.2010 14:32;7,62;;United Kingdom',\n",
       " '536544;22112;CHOCOLATE HOT WATER BOTTLE;2;1.12.2010 14:32;11,02;;United Kingdom',\n",
       " '536544;22154;ANGEL DECORATION 3 BUTTONS ;1;1.12.2010 14:32;0,85;;United Kingdom',\n",
       " '536544;22162;HEART GARLAND RUSTIC PADDED;2;1.12.2010 14:32;3,36;;United Kingdom',\n",
       " '536544;22219;LOVEBIRD HANGING DECORATION WHITE ;3;1.12.2010 14:32;1,66;;United Kingdom',\n",
       " '536544;22265;EASTER DECORATION NATURAL CHICK;2;1.12.2010 14:32;1,28;;United Kingdom',\n",
       " '536544;22294;HEART FILIGREE DOVE  SMALL;4;1.12.2010 14:32;2,51;;United Kingdom',\n",
       " '536544;22300;COFFEE MUG DOG + BALL DESIGN;1;1.12.2010 14:32;5,06;;United Kingdom',\n",
       " '536544;22301;COFFEE MUG CAT + BIRD DESIGN;2;1.12.2010 14:32;5,06;;United Kingdom',\n",
       " '536544;22310;IVORY KNITTED MUG COSY ;9;1.12.2010 14:32;3,36;;United Kingdom',\n",
       " '536544;22361;GLASS JAR DAISY FRESH COTTON WOOL;2;1.12.2010 14:32;5,91;;United Kingdom',\n",
       " '536544;22376;AIRLINE BAG VINTAGE JET SET WHITE;1;1.12.2010 14:32;8,47;;United Kingdom',\n",
       " '536544;22422;TOOTHPASTE TUBE PEN;2;1.12.2010 14:32;1,28;;United Kingdom',\n",
       " '536544;22432;WATERING CAN PINK BUNNY;1;1.12.2010 14:32;4,21;;United Kingdom',\n",
       " '536544;22487;WHITE WOOD GARDEN PLANT LADDER;1;1.12.2010 14:32;20,38;;United Kingdom',\n",
       " '536544;22489;PACK OF 12 TRADITIONAL CRAYONS;1;1.12.2010 14:32;0,85;;United Kingdom',\n",
       " '536544;22515;CHILDS GARDEN SPADE PINK;1;1.12.2010 14:32;4,21;;United Kingdom',\n",
       " '536544;22620;4 TRADITIONAL SPINNING TOPS;7;1.12.2010 14:32;2,51;;United Kingdom',\n",
       " '536544;22645;CERAMIC HEART FAIRY CAKE MONEY BANK;1;1.12.2010 14:32;3,36;;United Kingdom',\n",
       " '536544;22654;DELUXE SEWING KIT ;1;1.12.2010 14:32;11,87;;United Kingdom',\n",
       " '536544;22666;RECIPE BOX PANTRY YELLOW DESIGN;2;1.12.2010 14:32;5,91;;United Kingdom',\n",
       " '536544;22669;RED BABY BUNTING ;1;1.12.2010 14:32;5,91;;United Kingdom',\n",
       " '536544;22675;FRENCH KITCHEN SIGN BLUE METAL;2;1.12.2010 14:32;2,51;;United Kingdom',\n",
       " '536544;22694;WICKER STAR ;4;1.12.2010 14:32;4,21;;United Kingdom',\n",
       " '536544;22697;GREEN REGENCY TEACUP AND SAUCER;6;1.12.2010 14:32;5,91;;United Kingdom',\n",
       " '536544;22699;ROSES REGENCY TEACUP AND SAUCER ;2;1.12.2010 14:32;5,91;;United Kingdom',\n",
       " '536544;22734;SET OF 6 RIBBONS VINTAGE CHRISTMAS;3;1.12.2010 14:32;5,06;;United Kingdom',\n",
       " '536544;22758;LARGE PURPLE BABUSHKA NOTEBOOK  ;2;1.12.2010 14:32;2,51;;United Kingdom',\n",
       " '536544;22759;SET OF 3 NOTEBOOKS IN PARCEL;3;1.12.2010 14:32;3,36;;United Kingdom',\n",
       " '536544;22792;FLUTED ANTIQUE CANDLE HOLDER;2;1.12.2010 14:32;1,66;;United Kingdom',\n",
       " '536544;22837;HOT WATER BOTTLE BABUSHKA ;1;1.12.2010 14:32;9,32;;United Kingdom',\n",
       " '536544;22865;HAND WARMER OWL DESIGN;1;1.12.2010 14:32;4,21;;United Kingdom',\n",
       " '536544;22866;HAND WARMER SCOTTY DOG DESIGN;4;1.12.2010 14:32;4,21;;United Kingdom',\n",
       " '536544;22945;CHRISTMAS METAL TAGS ASSORTED ;1;1.12.2010 14:32;11,02;;United Kingdom',\n",
       " '536544;22960;JAM MAKING SET WITH JARS;7;1.12.2010 14:32;8,47;;United Kingdom',\n",
       " '536544;35598D;PINK/WHITE CHRISTMAS TREE 60CM;1;1.12.2010 14:32;2,51;;United Kingdom',\n",
       " '536544;47593B;SCOTTIE DOGS BABY BIB;2;1.12.2010 14:32;0,85;;United Kingdom',\n",
       " '536544;71053;WHITE METAL LANTERN;1;1.12.2010 14:32;8,47;;United Kingdom',\n",
       " '536544;71459;HANGING JAM JAR T-LIGHT HOLDER;8;1.12.2010 14:32;1,69;;United Kingdom',\n",
       " '536544;72817;SET OF 2 CHRISTMAS DECOUPAGE CANDLE;2;1.12.2010 14:32;1,66;;United Kingdom',\n",
       " '536544;85127;SMALL SQUARE CUT GLASS CANDLESTICK;2;1.12.2010 14:32;10,17;;United Kingdom',\n",
       " '536544;85135B;BLUE DRAGONFLY HELICOPTER;1;1.12.2010 14:32;8,47;;United Kingdom',\n",
       " '536544;85135C;RED DRAGONFLY HELICOPTER;1;1.12.2010 14:32;8,47;;United Kingdom',\n",
       " '536544;90022;EDWARDIAN DROP EARRINGS JET BLACK;1;1.12.2010 14:32;3,81;;United Kingdom',\n",
       " '536544;90120C;GREEN MURANO TWIST BRACELET;1;1.12.2010 14:32;4,24;;United Kingdom',\n",
       " '536544;90129A;PINK GLASS TASSLE BAG CHARM ;2;1.12.2010 14:32;1,66;;United Kingdom',\n",
       " '536544;90214D;\"LETTER \"\"D\"\" BLING KEY RING\";1;1.12.2010 14:32;0,85;;United Kingdom',\n",
       " '536544;84692;BOX OF 24 COCKTAIL PARASOLS;1;1.12.2010 14:32;0,85;;United Kingdom',\n",
       " '536544;84912B;GREEN ROSE WASHBAG;2;1.12.2010 14:32;3,36;;United Kingdom',\n",
       " '536544;84913B;MINT GREEN ROSE TOWEL;3;1.12.2010 14:32;3,36;;United Kingdom',\n",
       " '536544;20854;BLUE PATCH PURSE PINK HEART;6;1.12.2010 14:32;1,65;;United Kingdom',\n",
       " '536544;22633;HAND WARMER UNION JACK;3;1.12.2010 14:32;2,1;;United Kingdom',\n",
       " '536544;22866;HAND WARMER SCOTTY DOG DESIGN;3;1.12.2010 14:32;2,1;;United Kingdom',\n",
       " '536544;22845;VINTAGE CREAM CAT FOOD CONTAINER;2;1.12.2010 14:32;6,35;;United Kingdom',\n",
       " '536544;17011F;ORIGAMI SANDLEWOOD INCENSE+FLOWER;1;1.12.2010 14:32;4,21;;United Kingdom',\n",
       " '536544;17012D;ORIGAMI ROSE INCENSE/CANDLE SET ;1;1.12.2010 14:32;2,51;;United Kingdom',\n",
       " '536544;20735;BLACK MINI TAPE MEASURE ;1;1.12.2010 14:32;0,85;;United Kingdom',\n",
       " '536544;20839;FRENCH PAISLEY CUSHION COVER ;1;1.12.2010 14:32;9,32;;United Kingdom',\n",
       " '536544;20963;APPLE BATH SPONGE;1;1.12.2010 14:32;2,51;;United Kingdom',\n",
       " '536544;21070;VINTAGE BILLBOARD MUG ;1;1.12.2010 14:32;2,51;;United Kingdom',\n",
       " '536544;21116;OWL DOORSTOP;1;1.12.2010 14:32;8,47;;United Kingdom',\n",
       " \"536544;21169;YOU'RE CONFUSING ME METAL SIGN ;1;1.12.2010 14:32;4,21;;United Kingdom\",\n",
       " '536544;21189;WHITE HONEYCOMB PAPER GARLAND ;4;1.12.2010 14:32;3,36;;United Kingdom',\n",
       " '536544;21207;SKULL AND CROSSBONES  GARLAND ;2;1.12.2010 14:32;3,36;;United Kingdom',\n",
       " '536544;21232;STRAWBERRY CERAMIC TRINKET BOX;4;1.12.2010 14:32;2,51;;United Kingdom',\n",
       " '536544;21327;SKULLS WRITING SET ;1;1.12.2010 14:32;3,36;;United Kingdom',\n",
       " '536544;21349;IVY HEART WREATH;1;1.12.2010 14:32;13,57;;United Kingdom',\n",
       " '536544;21429;RED GINGHAM ROSE JEWELLERY BOX;5;1.12.2010 14:32;3,36;;United Kingdom',\n",
       " '536544;21479;WHITE SKULL HOT WATER BOTTLE ;5;1.12.2010 14:32;7,62;;United Kingdom',\n",
       " '536544;21484;CHICK GREY HOT WATER BOTTLE;4;1.12.2010 14:32;7,62;;United Kingdom',\n",
       " '536544;21486;PINK HEART DOTS HOT WATER BOTTLE;1;1.12.2010 14:32;4,21;;United Kingdom',\n",
       " '536544;21564;PINK  HEART SHAPE LOVE BUCKET ;2;1.12.2010 14:32;5,91;;United Kingdom',\n",
       " '536544;21706;FOLDING UMBRELLA RED/WHITE POLKADOT;2;1.12.2010 14:32;10,17;;United Kingdom',\n",
       " '536544;21722;SWEET PUDDING STICKER SHEET;1;1.12.2010 14:32;1,66;;United Kingdom',\n",
       " '536544;21731;RED TOADSTOOL LED NIGHT LIGHT;5;1.12.2010 14:32;3,36;;United Kingdom',\n",
       " '536547;37509;;1;1.12.2010 14:33;0;;United Kingdom',\n",
       " '536551;84970S;HANGING HEART ZINC T-LIGHT HOLDER;2;1.12.2010 14:34;0,85;17346;United Kingdom',\n",
       " '536551;21592;RETROSPOT CIGAR BOX MATCHES ;2;1.12.2010 14:34;1,25;17346;United Kingdom',\n",
       " '536551;22659;LUNCH BOX I LOVE LONDON;1;1.12.2010 14:34;1,95;17346;United Kingdom',\n",
       " '536551;21326;AGED GLASS SILVER T-LIGHT HOLDER;12;1.12.2010 14:34;0,65;17346;United Kingdom',\n",
       " '536551;22111;SCOTTIE DOG HOT WATER BOTTLE;1;1.12.2010 14:34;4,95;17346;United Kingdom',\n",
       " '536555;22716;CARD CIRCUS PARADE;1;1.12.2010 14:37;0,42;;United Kingdom',\n",
       " '536556;22336;DOVE DECORATION PAINTED ZINC ;24;1.12.2010 14:38;0,65;17643;United Kingdom',\n",
       " '536557;46000R;POLYESTER FILLER PAD 45x30cm;2;1.12.2010 14:41;1,45;17841;United Kingdom',\n",
       " '536557;84920;PINK FLOWER FABRIC PONY;1;1.12.2010 14:41;3,75;17841;United Kingdom',\n",
       " '536557;22114;HOT WATER BOTTLE TEA AND SYMPATHY;2;1.12.2010 14:41;3,95;17841;United Kingdom',\n",
       " '536557;85232B;SET OF 3 BABUSHKA STACKING TINS;1;1.12.2010 14:41;4,95;17841;United Kingdom',\n",
       " '536557;85232B;SET OF 3 BABUSHKA STACKING TINS;1;1.12.2010 14:41;4,95;17841;United Kingdom',\n",
       " '536557;22837;HOT WATER BOTTLE BABUSHKA ;5;1.12.2010 14:41;4,65;17841;United Kingdom',\n",
       " '536557;21485;RETROSPOT HEART HOT WATER BOTTLE;2;1.12.2010 14:41;4,95;17841;United Kingdom',\n",
       " '536557;79066K;RETRO MOD TRAY;1;1.12.2010 14:41;0,85;17841;United Kingdom',\n",
       " '536557;22592;CARDHOLDER HOLLY WREATH METAL;1;1.12.2010 14:41;3,75;17841;United Kingdom']"
      ]
     },
     "execution_count": 116,
     "metadata": {},
     "output_type": "execute_result"
    }
   ],
   "source": [
    "retailRDDWithoutHeader.filter(lambda x: daha_karmasik_filtre(x)).take(300)"
   ]
  },
  {
   "cell_type": "code",
   "execution_count": null,
   "metadata": {},
   "outputs": [],
   "source": []
  }
 ],
 "metadata": {
  "kernelspec": {
   "display_name": "Python 3",
   "language": "python",
   "name": "python3"
  },
  "language_info": {
   "codemirror_mode": {
    "name": "ipython",
    "version": 3
   },
   "file_extension": ".py",
   "mimetype": "text/x-python",
   "name": "python",
   "nbconvert_exporter": "python",
   "pygments_lexer": "ipython3",
   "version": "3.6.5"
  }
 },
 "nbformat": 4,
 "nbformat_minor": 2
}
