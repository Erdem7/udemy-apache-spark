{
 "cells": [
  {
   "cell_type": "code",
   "execution_count": 1,
   "metadata": {},
   "outputs": [],
   "source": [
    "import findspark\n",
    "findspark.init()"
   ]
  },
  {
   "cell_type": "code",
   "execution_count": 2,
   "metadata": {},
   "outputs": [],
   "source": [
    "from pyspark.sql import SparkSession\n",
    "from pyspark.sql.types import *\n",
    "from pyspark.sql.functions import *"
   ]
  },
  {
   "cell_type": "code",
   "execution_count": 3,
   "metadata": {},
   "outputs": [],
   "source": [
    "spark = SparkSession.builder \\\n",
    ".master(\"local[4]\") \\\n",
    ".appName(\"ReadFromFile\") \\\n",
    ".config(\"spark.driver.memory\",\"2g\") \\\n",
    ".config(\"spark.executor.memory\", \"4g\") \\\n",
    ".getOrCreate()"
   ]
  },
  {
   "cell_type": "code",
   "execution_count": 5,
   "metadata": {},
   "outputs": [],
   "source": [
    "lines = spark.readStream \\\n",
    ".format(\"text\") \\\n",
    ".load(\"D:\\\\spark-streaming-test\")"
   ]
  },
  {
   "cell_type": "code",
   "execution_count": 6,
   "metadata": {},
   "outputs": [],
   "source": [
    "words = lines.select(explode(split(col(\"value\"), \" \")).alias(\"value\"))"
   ]
  },
  {
   "cell_type": "code",
   "execution_count": 7,
   "metadata": {},
   "outputs": [],
   "source": [
    "word_counts = words.groupBy(\"value\").count().sort(desc(\"count\"))"
   ]
  },
  {
   "cell_type": "code",
   "execution_count": 9,
   "metadata": {},
   "outputs": [],
   "source": [
    "query = word_counts.writeStream \\\n",
    "      .outputMode(\"complete\") \\\n",
    "      .format(\"console\") \\\n",
    "      .start()"
   ]
  },
  {
   "cell_type": "code",
   "execution_count": null,
   "metadata": {},
   "outputs": [],
   "source": [
    "query.awaitTermination()"
   ]
  },
  {
   "cell_type": "markdown",
   "metadata": {},
   "source": [
    "### Monitör edilen dizine text dosyasını kopyala ve konsoldan sonçları gözlemle.\n",
    "    -------------------------------------------\n",
    "    Batch: 0\n",
    "    -------------------------------------------\n",
    "    +--------+-----+\n",
    "    |   value|count|\n",
    "    +--------+-----+\n",
    "    |     bir|   33|\n",
    "    |       –|   31|\n",
    "    |        |   29|\n",
    "    |  Forsa-|   24|\n",
    "    |     yıl|    8|\n",
    "    |    diye|    6|\n",
    "    |    Kırk|    5|\n",
    "    |   dedi.|    5|\n",
    "    |    Türk|    5|\n",
    "    |    onun|    5|\n",
    "    |   doğru|    5|\n",
    "    |   büyük|    4|\n",
    "    |   Yirmi|    4|\n",
    "    |     Ben|    4|\n",
    "    |     Ama|    4|\n",
    "    |  tutsak|    4|\n",
    "    |    gibi|    4|\n",
    "    |gibiydi.|    3|\n",
    "    |başladı.|    3|\n",
    "    |   kadar|    3|\n",
    "    +--------+-----+\n",
    "    only showing top 20 rows\n"
   ]
  },
  {
   "cell_type": "code",
   "execution_count": null,
   "metadata": {},
   "outputs": [],
   "source": [
    "query.stop()"
   ]
  },
  {
   "cell_type": "code",
   "execution_count": null,
   "metadata": {},
   "outputs": [],
   "source": []
  }
 ],
 "metadata": {
  "kernelspec": {
   "display_name": "Python 3",
   "language": "python",
   "name": "python3"
  },
  "language_info": {
   "codemirror_mode": {
    "name": "ipython",
    "version": 3
   },
   "file_extension": ".py",
   "mimetype": "text/x-python",
   "name": "python",
   "nbconvert_exporter": "python",
   "pygments_lexer": "ipython3",
   "version": "3.7.1"
  }
 },
 "nbformat": 4,
 "nbformat_minor": 2
}
