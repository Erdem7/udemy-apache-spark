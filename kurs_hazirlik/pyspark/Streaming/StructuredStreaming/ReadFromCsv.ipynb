{
 "cells": [
  {
   "cell_type": "code",
   "execution_count": 2,
   "metadata": {},
   "outputs": [],
   "source": [
    "import findspark\n",
    "findspark.init()"
   ]
  },
  {
   "cell_type": "code",
   "execution_count": 9,
   "metadata": {},
   "outputs": [],
   "source": [
    "from pyspark.sql import SparkSession\n",
    "from pyspark.sql.types import *\n",
    "import pyspark.sql.functions as f"
   ]
  },
  {
   "cell_type": "code",
   "execution_count": 4,
   "metadata": {},
   "outputs": [],
   "source": [
    "spark = SparkSession.builder \\\n",
    ".master(\"local[4]\") \\\n",
    ".appName(\"ReadFromFile\") \\\n",
    ".config(\"spark.driver.memory\",\"2g\") \\\n",
    ".config(\"spark.executor.memory\", \"4g\") \\\n",
    ".getOrCreate()"
   ]
  },
  {
   "cell_type": "code",
   "execution_count": 5,
   "metadata": {},
   "outputs": [],
   "source": [
    "schema = StructType([\n",
    "StructField(\"sirano\", IntegerType(), True),\n",
    "StructField(\"isim\", StringType(), True),\n",
    "StructField(\"yas\", IntegerType(), True),\n",
    "StructField(\"meslek\", StringType(), True),\n",
    "StructField(\"sehir\", StringType(), True),\n",
    "StructField(\"aylik_gelir\", DoubleType(), True)\n",
    "])"
   ]
  },
  {
   "cell_type": "code",
   "execution_count": 6,
   "metadata": {},
   "outputs": [],
   "source": [
    "# D:\\\\spark-streaming-test dizininden simple_data.csv dosyasını monitör edeceğiz\n",
    "df = spark.readStream \\\n",
    ".format(\"csv\") \\\n",
    ".option(\"header\",True) \\\n",
    ".option(\"sep\",\",\") \\\n",
    ".schema(schema) \\\n",
    ".load(\"D:\\\\spark-streaming-test\")"
   ]
  },
  {
   "cell_type": "code",
   "execution_count": 10,
   "metadata": {},
   "outputs": [],
   "source": [
    "meslekOrtGelir = df.groupBy(\"meslek\") \\\n",
    ".agg(f.avg(\"aylik_gelir\").alias(\"ort_gelir\")) \\\n",
    ".sort(f.desc(\"ort_gelir\"))"
   ]
  },
  {
   "cell_type": "code",
   "execution_count": 11,
   "metadata": {},
   "outputs": [],
   "source": [
    "query = meslekOrtGelir.writeStream \\\n",
    "      .outputMode(\"complete\") \\\n",
    "      .format(\"console\") \\\n",
    "      .start()"
   ]
  },
  {
   "cell_type": "code",
   "execution_count": null,
   "metadata": {},
   "outputs": [],
   "source": [
    "query.awaitTermination()"
   ]
  },
  {
   "cell_type": "markdown",
   "metadata": {},
   "source": [
    "### Monitör edilen dizine text dosyasını kopyala ve konsoldan sonçları gözlemle.\n",
    "    +-----------+------------------+\n",
    "    |     meslek|         ort_gelir|\n",
    "    +-----------+------------------+\n",
    "    |     Doktor|           16125.0|\n",
    "    |     Berber|           12000.0|\n",
    "    |   Müzisyen|            9900.0|\n",
    "    |Pazarlamaci| 5433.333333333333|\n",
    "    | Tuhafiyeci|            4800.0|\n",
    "    |    Tornacı|            4200.0|\n",
    "    |      Memur|4066.6666666666665|\n",
    "    |       Isci|            3500.0|\n",
    "    +-----------+------------------+"
   ]
  },
  {
   "cell_type": "code",
   "execution_count": null,
   "metadata": {},
   "outputs": [],
   "source": [
    "query.stop()"
   ]
  },
  {
   "cell_type": "code",
   "execution_count": null,
   "metadata": {},
   "outputs": [],
   "source": []
  }
 ],
 "metadata": {
  "kernelspec": {
   "display_name": "Python 3",
   "language": "python",
   "name": "python3"
  },
  "language_info": {
   "codemirror_mode": {
    "name": "ipython",
    "version": 3
   },
   "file_extension": ".py",
   "mimetype": "text/x-python",
   "name": "python",
   "nbconvert_exporter": "python",
   "pygments_lexer": "ipython3",
   "version": "3.7.1"
  }
 },
 "nbformat": 4,
 "nbformat_minor": 2
}
