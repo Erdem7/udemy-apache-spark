{
 "cells": [
  {
   "cell_type": "code",
   "execution_count": 1,
   "metadata": {},
   "outputs": [],
   "source": [
    "import findspark\n",
    "findspark.init()"
   ]
  },
  {
   "cell_type": "code",
   "execution_count": 2,
   "metadata": {},
   "outputs": [],
   "source": [
    "from pyspark.streaming import *\n",
    "from pyspark import SparkConf, SparkContext"
   ]
  },
  {
   "cell_type": "markdown",
   "metadata": {},
   "source": [
    "# SparkContext, StreamingContext ve FileStream Okuma"
   ]
  },
  {
   "cell_type": "markdown",
   "metadata": {},
   "source": [
    "    .set(\"spark.executor.heartbeatInterval\",\"3600s\") \\\n",
    "    .set(\"spark.network.timeout\", \"4000s\") \\"
   ]
  },
  {
   "cell_type": "code",
   "execution_count": 3,
   "metadata": {},
   "outputs": [],
   "source": [
    "conf = (SparkConf() \\\n",
    ".set(\"spark.dirverimemory\",\"2g\") \\\n",
    ".set(\"spark.executor.memory\",\"4g\") )"
   ]
  },
  {
   "cell_type": "code",
   "execution_count": 31,
   "metadata": {},
   "outputs": [],
   "source": [
    "sc = SparkContext(appName=\"WindowOps\", master=\"local[4]\", conf=conf)"
   ]
  },
  {
   "cell_type": "code",
   "execution_count": 32,
   "metadata": {},
   "outputs": [],
   "source": [
    "ssc = StreamingContext(sc, batchDuration=5)"
   ]
  },
  {
   "cell_type": "code",
   "execution_count": 33,
   "metadata": {},
   "outputs": [],
   "source": [
    "lines = ssc.textFileStream(\"D:\\\\spark-streaming-test\")"
   ]
  },
  {
   "cell_type": "markdown",
   "metadata": {},
   "source": [
    "# Checkpoint"
   ]
  },
  {
   "cell_type": "code",
   "execution_count": 34,
   "metadata": {},
   "outputs": [],
   "source": [
    "ssc.checkpoint(\"D:\\\\checkpoint\")"
   ]
  },
  {
   "cell_type": "markdown",
   "metadata": {},
   "source": [
    "# Operasyon Başlangıç"
   ]
  },
  {
   "cell_type": "code",
   "execution_count": 35,
   "metadata": {},
   "outputs": [],
   "source": [
    "words = lines.flatMap(lambda x: x.split(\" \"))"
   ]
  },
  {
   "cell_type": "code",
   "execution_count": 36,
   "metadata": {},
   "outputs": [],
   "source": [
    "mapped_words = words.map(lambda x: (x,1))"
   ]
  },
  {
   "cell_type": "markdown",
   "metadata": {},
   "source": [
    "# Window"
   ]
  },
  {
   "cell_type": "code",
   "execution_count": 37,
   "metadata": {},
   "outputs": [],
   "source": [
    "# window = mapped_words.window(windowDuration=30, slideDuration=10)"
   ]
  },
  {
   "cell_type": "markdown",
   "metadata": {},
   "source": [
    "# countByWindow"
   ]
  },
  {
   "cell_type": "code",
   "execution_count": 38,
   "metadata": {},
   "outputs": [],
   "source": [
    "# countByWindow = mapped_words.countByWindow(windowDuration=30, slideDuration=10)"
   ]
  },
  {
   "cell_type": "markdown",
   "metadata": {},
   "source": [
    "# reduceByKeyAndWindow "
   ]
  },
  {
   "cell_type": "code",
   "execution_count": 39,
   "metadata": {},
   "outputs": [],
   "source": [
    "reduceByKeyAndWindow = mapped_words.reduceByKeyAndWindow(lambda x, y: int(x) + int(y), lambda x, y: int(x) - int(y), \\\n",
    "                                                         windowDuration=30, slideDuration=10) \\\n",
    ".map(lambda x: (x[1], x[0])) \\\n",
    ".transform(lambda x: x.sortByKey(False))"
   ]
  },
  {
   "cell_type": "markdown",
   "metadata": {},
   "source": [
    "# Operasyon Bitiş"
   ]
  },
  {
   "cell_type": "markdown",
   "metadata": {},
   "source": [
    "# Sonuç"
   ]
  },
  {
   "cell_type": "code",
   "execution_count": 40,
   "metadata": {},
   "outputs": [],
   "source": [
    "reduceByKeyAndWindow.pprint()"
   ]
  },
  {
   "cell_type": "markdown",
   "metadata": {},
   "source": [
    "# Çalıştır"
   ]
  },
  {
   "cell_type": "code",
   "execution_count": 41,
   "metadata": {},
   "outputs": [
    {
     "name": "stdout",
     "output_type": "stream",
     "text": [
      "-------------------------------------------\n",
      "Time: 2019-03-04 11:31:40\n",
      "-------------------------------------------\n",
      "\n",
      "-------------------------------------------\n",
      "Time: 2019-03-04 11:31:50\n",
      "-------------------------------------------\n",
      "\n",
      "-------------------------------------------\n",
      "Time: 2019-03-04 11:32:00\n",
      "-------------------------------------------\n",
      "\n",
      "-------------------------------------------\n",
      "Time: 2019-03-04 11:32:10\n",
      "-------------------------------------------\n",
      "(33, '')\n",
      "(33, 'bir')\n",
      "(31, '–')\n",
      "(24, 'Forsa-')\n",
      "(8, 'yıl')\n",
      "(6, 'diye')\n",
      "(5, 'dedi.')\n",
      "(5, 'onun')\n",
      "(5, 'doğru')\n",
      "(5, 'Kırk')\n",
      "...\n",
      "\n",
      "-------------------------------------------\n",
      "Time: 2019-03-04 11:32:20\n",
      "-------------------------------------------\n",
      "(33, '')\n",
      "(33, 'bir')\n",
      "(31, '–')\n",
      "(24, 'Forsa-')\n",
      "(8, 'yıl')\n",
      "(6, 'diye')\n",
      "(5, 'dedi.')\n",
      "(5, 'onun')\n",
      "(5, 'doğru')\n",
      "(5, 'Kırk')\n",
      "...\n",
      "\n",
      "-------------------------------------------\n",
      "Time: 2019-03-04 11:32:30\n",
      "-------------------------------------------\n",
      "(33, '')\n",
      "(33, 'bir')\n",
      "(31, '–')\n",
      "(24, 'Forsa-')\n",
      "(8, 'yıl')\n",
      "(6, 'diye')\n",
      "(5, 'dedi.')\n",
      "(5, 'onun')\n",
      "(5, 'doğru')\n",
      "(5, 'Kırk')\n",
      "...\n",
      "\n",
      "-------------------------------------------\n",
      "Time: 2019-03-04 11:32:40\n",
      "-------------------------------------------\n",
      "(99, '')\n",
      "(99, 'bir')\n",
      "(93, '–')\n",
      "(72, 'Forsa-')\n",
      "(24, 'yıl')\n",
      "(18, 'diye')\n",
      "(15, 'dedi.')\n",
      "(15, 'onun')\n",
      "(15, 'doğru')\n",
      "(15, 'Kırk')\n",
      "...\n",
      "\n",
      "-------------------------------------------\n",
      "Time: 2019-03-04 11:32:50\n",
      "-------------------------------------------\n",
      "(99, '')\n",
      "(99, 'bir')\n",
      "(93, '–')\n",
      "(72, 'Forsa-')\n",
      "(24, 'yıl')\n",
      "(18, 'diye')\n",
      "(15, 'dedi.')\n",
      "(15, 'onun')\n",
      "(15, 'doğru')\n",
      "(15, 'Kırk')\n",
      "...\n",
      "\n",
      "-------------------------------------------\n",
      "Time: 2019-03-04 11:33:00\n",
      "-------------------------------------------\n",
      "(99, '')\n",
      "(99, 'bir')\n",
      "(93, '–')\n",
      "(72, 'Forsa-')\n",
      "(24, 'yıl')\n",
      "(18, 'diye')\n",
      "(15, 'dedi.')\n",
      "(15, 'onun')\n",
      "(15, 'doğru')\n",
      "(15, 'Kırk')\n",
      "...\n",
      "\n",
      "-------------------------------------------\n",
      "Time: 2019-03-04 11:33:10\n",
      "-------------------------------------------\n",
      "\n",
      "-------------------------------------------\n",
      "Time: 2019-03-04 11:33:20\n",
      "-------------------------------------------\n",
      "\n"
     ]
    }
   ],
   "source": [
    "ssc.start()"
   ]
  },
  {
   "cell_type": "code",
   "execution_count": 42,
   "metadata": {},
   "outputs": [
    {
     "name": "stdout",
     "output_type": "stream",
     "text": [
      "-------------------------------------------\n",
      "Time: 2019-03-04 11:33:30\n",
      "-------------------------------------------\n",
      "\n",
      "-------------------------------------------\n",
      "Time: 2019-03-04 11:33:40\n",
      "-------------------------------------------\n",
      "\n",
      "-------------------------------------------\n",
      "Time: 2019-03-04 11:33:50\n",
      "-------------------------------------------\n",
      "\n",
      "-------------------------------------------\n",
      "Time: 2019-03-04 11:34:00\n",
      "-------------------------------------------\n",
      "\n",
      "-------------------------------------------\n",
      "Time: 2019-03-04 11:34:10\n",
      "-------------------------------------------\n",
      "\n"
     ]
    }
   ],
   "source": [
    "ssc.stop(stopSparkContext=True, stopGraceFully=True)"
   ]
  },
  {
   "cell_type": "code",
   "execution_count": null,
   "metadata": {},
   "outputs": [],
   "source": []
  }
 ],
 "metadata": {
  "kernelspec": {
   "display_name": "Python 3",
   "language": "python",
   "name": "python3"
  },
  "language_info": {
   "codemirror_mode": {
    "name": "ipython",
    "version": 3
   },
   "file_extension": ".py",
   "mimetype": "text/x-python",
   "name": "python",
   "nbconvert_exporter": "python",
   "pygments_lexer": "ipython3",
   "version": "3.7.1"
  }
 },
 "nbformat": 4,
 "nbformat_minor": 2
}
